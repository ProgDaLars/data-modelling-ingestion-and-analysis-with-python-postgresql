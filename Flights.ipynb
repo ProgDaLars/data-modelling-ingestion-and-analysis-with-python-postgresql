{
 "cells": [
  {
   "cell_type": "markdown",
   "id": "b1d574c9-3f4e-4329-8fb6-b8b676f83575",
   "metadata": {},
   "source": [
    "#### FAMOUS Salami\n",
    "#### salamifamous@gmail.com"
   ]
  },
  {
   "cell_type": "code",
   "execution_count": 1,
   "id": "c61ab9de-e547-460b-87c7-62cef75cbf89",
   "metadata": {},
   "outputs": [],
   "source": [
    "import psycopg2\n",
    "import pandas as pd"
   ]
  },
  {
   "cell_type": "markdown",
   "id": "bed5827f-4e03-4b72-b702-94fd90473ce5",
   "metadata": {},
   "source": [
    "### Defining PostgreSQL Connection class"
   ]
  },
  {
   "cell_type": "code",
   "execution_count": 2,
   "id": "2bda53de-5dc7-487f-8b95-7352a198543a",
   "metadata": {},
   "outputs": [],
   "source": [
    "class PostgreSQLConnection:\n",
    "    def __init__(self, host, dbname, user, password):\n",
    "        self.host = host\n",
    "        self.dbname = dbname\n",
    "        self.user = user\n",
    "        self.password = password\n",
    "        self.connection = None\n",
    "\n",
    "    def connect(self):\n",
    "        try:\n",
    "            if self.connection:\n",
    "                return ('Connection already established')\n",
    "            else:\n",
    "                self.connection = psycopg2.connect(\n",
    "                    host=self.host,\n",
    "                    dbname=self.dbname,\n",
    "                    user=self.user,\n",
    "                    password=self.password\n",
    "                )\n",
    "                if self.connection:\n",
    "                    cursor_ = self.connection.cursor()\n",
    "                    return cursor_, self.connection\n",
    "                #print('Connected to PostgreSQL')\n",
    "        except Exception as e:\n",
    "            print(f'Error {e} occurred')\n",
    "\n",
    "    def close(self):\n",
    "        if self.cursor:\n",
    "            self.cursor.close()\n",
    "        if self.connection:\n",
    "            self.connection.close()\n",
    "            return ('PostgreSQL connection closed')\n",
    "\n",
    "    def create_cursor(self):\n",
    "        if self.connection:\n",
    "            cursor_ = self.connection.cursor()\n",
    "            if dbcursor:\n",
    "                print ('Cursor creation succeeded.')\n",
    "                return cursor_\n",
    "            else:\n",
    "                return None\n",
    "\n",
    "    def set_autocommit(self, boolValue):\n",
    "        if self.connection:\n",
    "            self.connection.autocommit = boolValue\n",
    "            print(f'Autocommit set to {boolValue}.')\n",
    "        else:\n",
    "            return None\n"
   ]
  },
  {
   "cell_type": "code",
   "execution_count": 3,
   "id": "84ad6b2c-ed0b-48a2-913f-c97cebac2f6b",
   "metadata": {},
   "outputs": [],
   "source": [
    "class DatabaseSQLHandler:\n",
    "    def __init__(self, dbcon, dbcursor):\n",
    "        self.dbcon = dbcon\n",
    "        self.dbcursor = dbcursor\n",
    "        \n",
    "    def create_database(self, dbase_name):\n",
    "        create_database_query = f\"\"\"CREATE DATABASE {dbase_name};\"\"\"\n",
    "        try:\n",
    "            self.dbcursor.execute(create_database_query)\n",
    "            #self.dbcon.commit()\n",
    "            self.dbcursor.execute(\"commit\")\n",
    "            print (f'Database \"{dbase_name}\" creation succeeded.')\n",
    "        except Exception as e:\n",
    "            print(f\"Error: {e}\")\n",
    "\n",
    "    def create_table(self, table_name, columns):\n",
    "        create_table_query = f\"\"\"CREATE TABLE IF NOT EXISTS {table_name} ({columns});\"\"\"\n",
    "        try:\n",
    "            self.dbcursor.execute(create_table_query)\n",
    "            self.dbcursor.execute(\"commit\")\n",
    "            print (f'Table \"{table_name}\" creation succeeded.')\n",
    "        except Exception as e:\n",
    "            print(f\"Error: {e}\")\n",
    "    \n",
    "    def insert_data(self, table_name, columns, data):\n",
    "        insert_query = f\"\"\"INSERT INTO {table_name} ({columns}) VALUES ({', '.join(['%s' for _ in range(len(data))])});\"\"\"\n",
    "        try:\n",
    "            self.dbcursor.execute(insert_query, data)\n",
    "            self.dbcursor.execute(\"commit\")\n",
    "            #print (f'Data insertion succeeded.')\n",
    "        except Exception as e:\n",
    "            print(f\"Error: {e}\")\n",
    "\n",
    "    def run_query(self, query, num_rows=0):\n",
    "        #select_query = f\"\"\"[query]\"\"\"\n",
    "        try:\n",
    "            self.dbcursor.execute(query)\n",
    "            if num_rows == 0:\n",
    "                rows = self.dbcursor.fetchall()\n",
    "            elif num_rows > 0:\n",
    "                rows = self.dbcursor.fetchmany(num_rows)\n",
    "            return rows\n",
    "            #print (f'Data insertion succeeded.')\n",
    "        except Exception as e:\n",
    "            print(f\"Error: {e}\")\n"
   ]
  },
  {
   "cell_type": "markdown",
   "id": "16b15783-08d4-4a7a-919c-a2d8e2b9b1c1",
   "metadata": {},
   "source": [
    "### Establishing a PostgreSQL Connection"
   ]
  },
  {
   "cell_type": "code",
   "execution_count": 4,
   "id": "6227132b-f344-4e8e-8ee8-47d831ab8f40",
   "metadata": {},
   "outputs": [],
   "source": [
    "pgconstr = PostgreSQLConnection(\n",
    "    host='127.0.0.1',\n",
    "    dbname='postgres',\n",
    "    user='postgres',\n",
    "    password='sirlammy'\n",
    ")"
   ]
  },
  {
   "cell_type": "markdown",
   "id": "44926c2c-4198-4a70-bf94-a918ea5b8e5f",
   "metadata": {},
   "source": [
    "### Creating PostgreSQL connection and cursor for Queries"
   ]
  },
  {
   "cell_type": "code",
   "execution_count": 5,
   "id": "0f9f7341-c940-435f-8207-16f1cfcbc2e9",
   "metadata": {},
   "outputs": [
    {
     "name": "stdout",
     "output_type": "stream",
     "text": [
      "Cursor creation succeeded.\n"
     ]
    }
   ],
   "source": [
    "#if not pgcon:\n",
    "pgcursor, pgcon = pgconstr.connect()\n",
    "\n",
    "if pgcursor:\n",
    "    print ('Cursor creation succeeded.')"
   ]
  },
  {
   "cell_type": "code",
   "execution_count": null,
   "id": "43505941-e8c9-4dff-ad3d-dbc9ace0e417",
   "metadata": {},
   "outputs": [],
   "source": []
  },
  {
   "cell_type": "code",
   "execution_count": 6,
   "id": "7e5b50bc-d8ad-433d-964f-7a3ec62ba9f6",
   "metadata": {},
   "outputs": [
    {
     "name": "stdout",
     "output_type": "stream",
     "text": [
      "Database \"flights\" creation succeeded.\n"
     ]
    }
   ],
   "source": [
    "# initialize connection\n",
    "pgcursor.execute(\"rollback\")\n",
    "pg_handler = DatabaseSQLHandler(pgcon, pgcursor)\n",
    "\n",
    "# create 'flights' database\n",
    "pg_handler.create_database(\"flights\")"
   ]
  },
  {
   "cell_type": "markdown",
   "id": "c4d8d7da-03fe-45d9-a959-63dd093e4b45",
   "metadata": {},
   "source": [
    "### Connecting to the \"flights\" database"
   ]
  },
  {
   "cell_type": "code",
   "execution_count": 7,
   "id": "bb1b2638-cace-480b-b066-7e3855910bf5",
   "metadata": {},
   "outputs": [
    {
     "name": "stdout",
     "output_type": "stream",
     "text": [
      "Cursor creation succeeded.\n"
     ]
    }
   ],
   "source": [
    "dbconstr = PostgreSQLConnection(\n",
    "    host='127.0.0.1',\n",
    "    dbname='flights',\n",
    "    user='postgres',\n",
    "    password='sirlammy'\n",
    ")\n",
    "\n",
    "# create connection and cursor\n",
    "#if not dbcon:\n",
    "dbcursor, dbcon = dbconstr.connect()\n",
    "\n",
    "if dbcursor:\n",
    "    print ('Cursor creation succeeded.')"
   ]
  },
  {
   "cell_type": "markdown",
   "id": "2f43a9f4-f7d5-4f85-9866-4e9f09a4fa38",
   "metadata": {},
   "source": [
    "### Brief Analysis of the datasets"
   ]
  },
  {
   "cell_type": "markdown",
   "id": "3ea8c550-f491-4f70-b2b9-d582f175292a",
   "metadata": {},
   "source": [
    "#### - Flights dataset analysis"
   ]
  },
  {
   "cell_type": "code",
   "execution_count": 8,
   "id": "12839253-0ff0-4aa5-9454-5dbbd3121884",
   "metadata": {},
   "outputs": [
    {
     "name": "stdout",
     "output_type": "stream",
     "text": [
      "<class 'pandas.core.frame.DataFrame'>\n",
      "RangeIndex: 271888 entries, 0 to 271887\n",
      "Data columns (total 10 columns):\n",
      " #   Column      Non-Null Count   Dtype  \n",
      "---  ------      --------------   -----  \n",
      " 0   travelCode  271888 non-null  int64  \n",
      " 1   userCode    271888 non-null  int64  \n",
      " 2   from        271888 non-null  object \n",
      " 3   to          271888 non-null  object \n",
      " 4   flightType  271888 non-null  object \n",
      " 5   price       271888 non-null  float64\n",
      " 6   time        271888 non-null  float64\n",
      " 7   distance    271888 non-null  float64\n",
      " 8   agency      271888 non-null  object \n",
      " 9   date        271888 non-null  object \n",
      "dtypes: float64(3), int64(2), object(5)\n",
      "memory usage: 20.7+ MB\n",
      "\n",
      "\n"
     ]
    },
    {
     "data": {
      "text/html": [
       "<div>\n",
       "<style scoped>\n",
       "    .dataframe tbody tr th:only-of-type {\n",
       "        vertical-align: middle;\n",
       "    }\n",
       "\n",
       "    .dataframe tbody tr th {\n",
       "        vertical-align: top;\n",
       "    }\n",
       "\n",
       "    .dataframe thead th {\n",
       "        text-align: right;\n",
       "    }\n",
       "</style>\n",
       "<table border=\"1\" class=\"dataframe\">\n",
       "  <thead>\n",
       "    <tr style=\"text-align: right;\">\n",
       "      <th></th>\n",
       "      <th>travelCode</th>\n",
       "      <th>userCode</th>\n",
       "      <th>from</th>\n",
       "      <th>to</th>\n",
       "      <th>flightType</th>\n",
       "      <th>price</th>\n",
       "      <th>time</th>\n",
       "      <th>distance</th>\n",
       "      <th>agency</th>\n",
       "      <th>date</th>\n",
       "    </tr>\n",
       "  </thead>\n",
       "  <tbody>\n",
       "    <tr>\n",
       "      <th>0</th>\n",
       "      <td>0</td>\n",
       "      <td>0</td>\n",
       "      <td>Recife (PE)</td>\n",
       "      <td>Florianopolis (SC)</td>\n",
       "      <td>firstClass</td>\n",
       "      <td>1434.38</td>\n",
       "      <td>1.76</td>\n",
       "      <td>676.53</td>\n",
       "      <td>FlyingDrops</td>\n",
       "      <td>09/26/2019</td>\n",
       "    </tr>\n",
       "    <tr>\n",
       "      <th>1</th>\n",
       "      <td>0</td>\n",
       "      <td>0</td>\n",
       "      <td>Florianopolis (SC)</td>\n",
       "      <td>Recife (PE)</td>\n",
       "      <td>firstClass</td>\n",
       "      <td>1292.29</td>\n",
       "      <td>1.76</td>\n",
       "      <td>676.53</td>\n",
       "      <td>FlyingDrops</td>\n",
       "      <td>09/30/2019</td>\n",
       "    </tr>\n",
       "    <tr>\n",
       "      <th>2</th>\n",
       "      <td>1</td>\n",
       "      <td>0</td>\n",
       "      <td>Brasilia (DF)</td>\n",
       "      <td>Florianopolis (SC)</td>\n",
       "      <td>firstClass</td>\n",
       "      <td>1487.52</td>\n",
       "      <td>1.66</td>\n",
       "      <td>637.56</td>\n",
       "      <td>CloudFy</td>\n",
       "      <td>10/03/2019</td>\n",
       "    </tr>\n",
       "    <tr>\n",
       "      <th>3</th>\n",
       "      <td>1</td>\n",
       "      <td>0</td>\n",
       "      <td>Florianopolis (SC)</td>\n",
       "      <td>Brasilia (DF)</td>\n",
       "      <td>firstClass</td>\n",
       "      <td>1127.36</td>\n",
       "      <td>1.66</td>\n",
       "      <td>637.56</td>\n",
       "      <td>CloudFy</td>\n",
       "      <td>10/04/2019</td>\n",
       "    </tr>\n",
       "    <tr>\n",
       "      <th>4</th>\n",
       "      <td>2</td>\n",
       "      <td>0</td>\n",
       "      <td>Aracaju (SE)</td>\n",
       "      <td>Salvador (BH)</td>\n",
       "      <td>firstClass</td>\n",
       "      <td>1684.05</td>\n",
       "      <td>2.16</td>\n",
       "      <td>830.86</td>\n",
       "      <td>CloudFy</td>\n",
       "      <td>10/10/2019</td>\n",
       "    </tr>\n",
       "    <tr>\n",
       "      <th>5</th>\n",
       "      <td>2</td>\n",
       "      <td>0</td>\n",
       "      <td>Salvador (BH)</td>\n",
       "      <td>Aracaju (SE)</td>\n",
       "      <td>firstClass</td>\n",
       "      <td>1531.92</td>\n",
       "      <td>2.16</td>\n",
       "      <td>830.86</td>\n",
       "      <td>CloudFy</td>\n",
       "      <td>10/12/2019</td>\n",
       "    </tr>\n",
       "    <tr>\n",
       "      <th>6</th>\n",
       "      <td>3</td>\n",
       "      <td>0</td>\n",
       "      <td>Aracaju (SE)</td>\n",
       "      <td>Campo Grande (MS)</td>\n",
       "      <td>economic</td>\n",
       "      <td>743.54</td>\n",
       "      <td>1.69</td>\n",
       "      <td>650.10</td>\n",
       "      <td>Rainbow</td>\n",
       "      <td>10/17/2019</td>\n",
       "    </tr>\n",
       "    <tr>\n",
       "      <th>7</th>\n",
       "      <td>3</td>\n",
       "      <td>0</td>\n",
       "      <td>Campo Grande (MS)</td>\n",
       "      <td>Aracaju (SE)</td>\n",
       "      <td>economic</td>\n",
       "      <td>877.56</td>\n",
       "      <td>1.69</td>\n",
       "      <td>650.10</td>\n",
       "      <td>Rainbow</td>\n",
       "      <td>10/20/2019</td>\n",
       "    </tr>\n",
       "    <tr>\n",
       "      <th>8</th>\n",
       "      <td>4</td>\n",
       "      <td>0</td>\n",
       "      <td>Recife (PE)</td>\n",
       "      <td>Florianopolis (SC)</td>\n",
       "      <td>economic</td>\n",
       "      <td>803.39</td>\n",
       "      <td>1.76</td>\n",
       "      <td>676.53</td>\n",
       "      <td>Rainbow</td>\n",
       "      <td>10/24/2019</td>\n",
       "    </tr>\n",
       "    <tr>\n",
       "      <th>9</th>\n",
       "      <td>4</td>\n",
       "      <td>0</td>\n",
       "      <td>Florianopolis (SC)</td>\n",
       "      <td>Recife (PE)</td>\n",
       "      <td>economic</td>\n",
       "      <td>695.30</td>\n",
       "      <td>1.76</td>\n",
       "      <td>676.53</td>\n",
       "      <td>Rainbow</td>\n",
       "      <td>10/26/2019</td>\n",
       "    </tr>\n",
       "  </tbody>\n",
       "</table>\n",
       "</div>"
      ],
      "text/plain": [
       "   travelCode  userCode                from                  to  flightType  \\\n",
       "0           0         0         Recife (PE)  Florianopolis (SC)  firstClass   \n",
       "1           0         0  Florianopolis (SC)         Recife (PE)  firstClass   \n",
       "2           1         0       Brasilia (DF)  Florianopolis (SC)  firstClass   \n",
       "3           1         0  Florianopolis (SC)       Brasilia (DF)  firstClass   \n",
       "4           2         0        Aracaju (SE)       Salvador (BH)  firstClass   \n",
       "5           2         0       Salvador (BH)        Aracaju (SE)  firstClass   \n",
       "6           3         0        Aracaju (SE)   Campo Grande (MS)    economic   \n",
       "7           3         0   Campo Grande (MS)        Aracaju (SE)    economic   \n",
       "8           4         0         Recife (PE)  Florianopolis (SC)    economic   \n",
       "9           4         0  Florianopolis (SC)         Recife (PE)    economic   \n",
       "\n",
       "     price  time  distance       agency        date  \n",
       "0  1434.38  1.76    676.53  FlyingDrops  09/26/2019  \n",
       "1  1292.29  1.76    676.53  FlyingDrops  09/30/2019  \n",
       "2  1487.52  1.66    637.56      CloudFy  10/03/2019  \n",
       "3  1127.36  1.66    637.56      CloudFy  10/04/2019  \n",
       "4  1684.05  2.16    830.86      CloudFy  10/10/2019  \n",
       "5  1531.92  2.16    830.86      CloudFy  10/12/2019  \n",
       "6   743.54  1.69    650.10      Rainbow  10/17/2019  \n",
       "7   877.56  1.69    650.10      Rainbow  10/20/2019  \n",
       "8   803.39  1.76    676.53      Rainbow  10/24/2019  \n",
       "9   695.30  1.76    676.53      Rainbow  10/26/2019  "
      ]
     },
     "execution_count": 8,
     "metadata": {},
     "output_type": "execute_result"
    }
   ],
   "source": [
    "# Flights data analysis\n",
    "flight_df = pd.read_csv(\"./flight_bookings.csv\")\n",
    "\n",
    "flight_df.info()\n",
    "print('\\n')\n",
    "flight_df.head(10)"
   ]
  },
  {
   "cell_type": "code",
   "execution_count": 9,
   "id": "8e6a4adf-e59e-4cbe-b5e5-37a5aa2b4974",
   "metadata": {},
   "outputs": [
    {
     "data": {
      "text/plain": [
       "agency\n",
       "Rainbow        116752\n",
       "CloudFy        116378\n",
       "FlyingDrops     38758\n",
       "dtype: int64"
      ]
     },
     "execution_count": 9,
     "metadata": {},
     "output_type": "execute_result"
    }
   ],
   "source": [
    "# flight_df.groupby('agency').size().count()\n",
    "\n",
    "flight_df.groupby('agency').size().sort_values(ascending=False)"
   ]
  },
  {
   "cell_type": "code",
   "execution_count": 10,
   "id": "cf014bfa-bbcc-4ed8-a8f0-dc4dfb531365",
   "metadata": {},
   "outputs": [
    {
     "data": {
      "text/plain": [
       "flightType\n",
       "firstClass    116418\n",
       "premium        78004\n",
       "economic       77466\n",
       "dtype: int64"
      ]
     },
     "execution_count": 10,
     "metadata": {},
     "output_type": "execute_result"
    }
   ],
   "source": [
    "flight_df.groupby('flightType').size().sort_values(ascending=False)"
   ]
  },
  {
   "cell_type": "markdown",
   "id": "3d898b4b-1492-48aa-87f7-8d4e986f3ffc",
   "metadata": {},
   "source": [
    "#### - Hotel dataset analysis"
   ]
  },
  {
   "cell_type": "code",
   "execution_count": 11,
   "id": "3fb85c3b-4e48-47de-a9e5-a3f5f2c9126b",
   "metadata": {},
   "outputs": [
    {
     "name": "stdout",
     "output_type": "stream",
     "text": [
      "<class 'pandas.core.frame.DataFrame'>\n",
      "RangeIndex: 40552 entries, 0 to 40551\n",
      "Data columns (total 8 columns):\n",
      " #   Column      Non-Null Count  Dtype  \n",
      "---  ------      --------------  -----  \n",
      " 0   travelCode  40552 non-null  int64  \n",
      " 1   userCode    40552 non-null  int64  \n",
      " 2   name        40552 non-null  object \n",
      " 3   place       40552 non-null  object \n",
      " 4   days        40552 non-null  int64  \n",
      " 5   price       40552 non-null  float64\n",
      " 6   total       40552 non-null  float64\n",
      " 7   date        40552 non-null  object \n",
      "dtypes: float64(2), int64(3), object(3)\n",
      "memory usage: 2.5+ MB\n",
      "\n",
      "\n"
     ]
    },
    {
     "data": {
      "text/html": [
       "<div>\n",
       "<style scoped>\n",
       "    .dataframe tbody tr th:only-of-type {\n",
       "        vertical-align: middle;\n",
       "    }\n",
       "\n",
       "    .dataframe tbody tr th {\n",
       "        vertical-align: top;\n",
       "    }\n",
       "\n",
       "    .dataframe thead th {\n",
       "        text-align: right;\n",
       "    }\n",
       "</style>\n",
       "<table border=\"1\" class=\"dataframe\">\n",
       "  <thead>\n",
       "    <tr style=\"text-align: right;\">\n",
       "      <th></th>\n",
       "      <th>travelCode</th>\n",
       "      <th>userCode</th>\n",
       "      <th>name</th>\n",
       "      <th>place</th>\n",
       "      <th>days</th>\n",
       "      <th>price</th>\n",
       "      <th>total</th>\n",
       "      <th>date</th>\n",
       "    </tr>\n",
       "  </thead>\n",
       "  <tbody>\n",
       "    <tr>\n",
       "      <th>0</th>\n",
       "      <td>0</td>\n",
       "      <td>0</td>\n",
       "      <td>Hotel A</td>\n",
       "      <td>Florianopolis (SC)</td>\n",
       "      <td>4</td>\n",
       "      <td>313.02</td>\n",
       "      <td>1252.08</td>\n",
       "      <td>09/26/2019</td>\n",
       "    </tr>\n",
       "    <tr>\n",
       "      <th>1</th>\n",
       "      <td>2</td>\n",
       "      <td>0</td>\n",
       "      <td>Hotel K</td>\n",
       "      <td>Salvador (BH)</td>\n",
       "      <td>2</td>\n",
       "      <td>263.41</td>\n",
       "      <td>526.82</td>\n",
       "      <td>10/10/2019</td>\n",
       "    </tr>\n",
       "    <tr>\n",
       "      <th>2</th>\n",
       "      <td>7</td>\n",
       "      <td>0</td>\n",
       "      <td>Hotel K</td>\n",
       "      <td>Salvador (BH)</td>\n",
       "      <td>3</td>\n",
       "      <td>263.41</td>\n",
       "      <td>790.23</td>\n",
       "      <td>11/14/2019</td>\n",
       "    </tr>\n",
       "    <tr>\n",
       "      <th>3</th>\n",
       "      <td>11</td>\n",
       "      <td>0</td>\n",
       "      <td>Hotel K</td>\n",
       "      <td>Salvador (BH)</td>\n",
       "      <td>4</td>\n",
       "      <td>263.41</td>\n",
       "      <td>1053.64</td>\n",
       "      <td>12/12/2019</td>\n",
       "    </tr>\n",
       "    <tr>\n",
       "      <th>4</th>\n",
       "      <td>13</td>\n",
       "      <td>0</td>\n",
       "      <td>Hotel A</td>\n",
       "      <td>Florianopolis (SC)</td>\n",
       "      <td>1</td>\n",
       "      <td>313.02</td>\n",
       "      <td>313.02</td>\n",
       "      <td>12/26/2019</td>\n",
       "    </tr>\n",
       "  </tbody>\n",
       "</table>\n",
       "</div>"
      ],
      "text/plain": [
       "   travelCode  userCode     name               place  days   price    total  \\\n",
       "0           0         0  Hotel A  Florianopolis (SC)     4  313.02  1252.08   \n",
       "1           2         0  Hotel K       Salvador (BH)     2  263.41   526.82   \n",
       "2           7         0  Hotel K       Salvador (BH)     3  263.41   790.23   \n",
       "3          11         0  Hotel K       Salvador (BH)     4  263.41  1053.64   \n",
       "4          13         0  Hotel A  Florianopolis (SC)     1  313.02   313.02   \n",
       "\n",
       "         date  \n",
       "0  09/26/2019  \n",
       "1  10/10/2019  \n",
       "2  11/14/2019  \n",
       "3  12/12/2019  \n",
       "4  12/26/2019  "
      ]
     },
     "execution_count": 11,
     "metadata": {},
     "output_type": "execute_result"
    }
   ],
   "source": [
    "# Hotel lodges analysis\n",
    "hotel_df = pd.read_csv(\"./hotels.csv\")\n",
    "\n",
    "hotel_df.info()\n",
    "\n",
    "print('\\n')\n",
    "hotel_df.head()"
   ]
  },
  {
   "cell_type": "code",
   "execution_count": 12,
   "id": "80f28288-2cc8-4f6c-887a-19bf1db687b7",
   "metadata": {},
   "outputs": [
    {
     "data": {
      "text/plain": [
       "name\n",
       "Hotel K     5094\n",
       "Hotel CB    5029\n",
       "Hotel BD    4829\n",
       "Hotel AF    4828\n",
       "Hotel AU    4467\n",
       "Hotel BP    4437\n",
       "Hotel BW    4333\n",
       "Hotel Z     4205\n",
       "Hotel A     3330\n",
       "dtype: int64"
      ]
     },
     "execution_count": 12,
     "metadata": {},
     "output_type": "execute_result"
    }
   ],
   "source": [
    "# hotel_df.groupby('name').size().count()\n",
    "\n",
    "hotel_df.groupby('name').size().sort_values(ascending=False)"
   ]
  },
  {
   "cell_type": "markdown",
   "id": "e7e9a41a-6591-4e01-a95e-bea5538f819e",
   "metadata": {},
   "source": [
    "#### - Users dataset analysis"
   ]
  },
  {
   "cell_type": "code",
   "execution_count": 13,
   "id": "67d7c7ea-4b3e-48b6-b5b7-454713189f53",
   "metadata": {},
   "outputs": [
    {
     "name": "stdout",
     "output_type": "stream",
     "text": [
      "<class 'pandas.core.frame.DataFrame'>\n",
      "RangeIndex: 1340 entries, 0 to 1339\n",
      "Data columns (total 5 columns):\n",
      " #   Column   Non-Null Count  Dtype \n",
      "---  ------   --------------  ----- \n",
      " 0   code     1340 non-null   int64 \n",
      " 1   company  1340 non-null   object\n",
      " 2   name     1340 non-null   object\n",
      " 3   gender   1340 non-null   object\n",
      " 4   age      1340 non-null   int64 \n",
      "dtypes: int64(2), object(3)\n",
      "memory usage: 52.5+ KB\n",
      "\n",
      "\n"
     ]
    },
    {
     "data": {
      "text/html": [
       "<div>\n",
       "<style scoped>\n",
       "    .dataframe tbody tr th:only-of-type {\n",
       "        vertical-align: middle;\n",
       "    }\n",
       "\n",
       "    .dataframe tbody tr th {\n",
       "        vertical-align: top;\n",
       "    }\n",
       "\n",
       "    .dataframe thead th {\n",
       "        text-align: right;\n",
       "    }\n",
       "</style>\n",
       "<table border=\"1\" class=\"dataframe\">\n",
       "  <thead>\n",
       "    <tr style=\"text-align: right;\">\n",
       "      <th></th>\n",
       "      <th>code</th>\n",
       "      <th>company</th>\n",
       "      <th>name</th>\n",
       "      <th>gender</th>\n",
       "      <th>age</th>\n",
       "    </tr>\n",
       "  </thead>\n",
       "  <tbody>\n",
       "    <tr>\n",
       "      <th>0</th>\n",
       "      <td>0</td>\n",
       "      <td>4You</td>\n",
       "      <td>Roy Braun</td>\n",
       "      <td>male</td>\n",
       "      <td>21</td>\n",
       "    </tr>\n",
       "    <tr>\n",
       "      <th>1</th>\n",
       "      <td>1</td>\n",
       "      <td>4You</td>\n",
       "      <td>Joseph Holsten</td>\n",
       "      <td>male</td>\n",
       "      <td>37</td>\n",
       "    </tr>\n",
       "    <tr>\n",
       "      <th>2</th>\n",
       "      <td>2</td>\n",
       "      <td>4You</td>\n",
       "      <td>Wilma Mcinnis</td>\n",
       "      <td>female</td>\n",
       "      <td>48</td>\n",
       "    </tr>\n",
       "    <tr>\n",
       "      <th>3</th>\n",
       "      <td>3</td>\n",
       "      <td>4You</td>\n",
       "      <td>Paula Daniel</td>\n",
       "      <td>female</td>\n",
       "      <td>23</td>\n",
       "    </tr>\n",
       "    <tr>\n",
       "      <th>4</th>\n",
       "      <td>4</td>\n",
       "      <td>4You</td>\n",
       "      <td>Patricia Carson</td>\n",
       "      <td>female</td>\n",
       "      <td>44</td>\n",
       "    </tr>\n",
       "  </tbody>\n",
       "</table>\n",
       "</div>"
      ],
      "text/plain": [
       "   code company             name  gender  age\n",
       "0     0    4You        Roy Braun    male   21\n",
       "1     1    4You   Joseph Holsten    male   37\n",
       "2     2    4You    Wilma Mcinnis  female   48\n",
       "3     3    4You     Paula Daniel  female   23\n",
       "4     4    4You  Patricia Carson  female   44"
      ]
     },
     "execution_count": 13,
     "metadata": {},
     "output_type": "execute_result"
    }
   ],
   "source": [
    "# Users\n",
    "users_df = pd.read_csv(\"./users.csv\")\n",
    "\n",
    "users_df.info()\n",
    "print('\\n')\n",
    "users_df.head()"
   ]
  },
  {
   "cell_type": "code",
   "execution_count": 14,
   "id": "b71b612b-7935-4925-bd4e-01f36edd3ae9",
   "metadata": {},
   "outputs": [
    {
     "data": {
      "text/plain": [
       "company\n",
       "4You             453\n",
       "Acme Factory     261\n",
       "Wonka Company    237\n",
       "Monsters CYA     195\n",
       "Umbrella LTDA    194\n",
       "dtype: int64"
      ]
     },
     "execution_count": 14,
     "metadata": {},
     "output_type": "execute_result"
    }
   ],
   "source": [
    "# users_df.groupby('company').size().count()\n",
    "users_df.groupby('company').size().sort_values(ascending=False)"
   ]
  },
  {
   "cell_type": "markdown",
   "id": "67564d75-ec49-419e-a337-71110f9af844",
   "metadata": {},
   "source": [
    "### General Insights\n",
    "\n",
    "- Flight records between 2019 and 2022\n",
    "- All three datasets contain complete data with no null entry value.\n",
    "- Has 271,888 flight records; 40,552 hotel lodges by 1,340 users across 5 different companies\n",
    "- 5 Companies are represented with '4You' having highest number of travellers, 453\n",
    "- 9 hotels are represented with 'Hotel K' having highest lodge of 5,094 times\n",
    "- 1,340 users comprising of males, females and undeclared genders\n",
    "- All flight trips were booked with 3 agencies (Rainbow, CloudFy and FlyingDrops) with 'Rainow' recording highest travels of 116,752\n",
    "- Users boarded firstclass, premium and economic. Most boarded class was 'Firstclass', boarded 116,418 times"
   ]
  },
  {
   "cell_type": "markdown",
   "id": "884d8bf9-f07f-4b05-a822-5b7cff58e37d",
   "metadata": {},
   "source": [
    "### Some useful functions"
   ]
  },
  {
   "cell_type": "code",
   "execution_count": 15,
   "id": "6d8ccbb5-2e31-41d9-9924-2bda3408e86b",
   "metadata": {},
   "outputs": [],
   "source": [
    "def convert_dt_to_postgrtype(datatype):\n",
    "    if datatype == \"object\":\n",
    "        return \"varchar\"\n",
    "    elif datatype == \"int64\":\n",
    "        return \"int\"\n",
    "    elif datatype == \"float64\":\n",
    "        return \"float\"\n",
    "\n",
    "def strip_keywords(attribute):\n",
    "    if attribute == \"from\":\n",
    "        return \"flightFrom\"\n",
    "    elif attribute == \"to\":\n",
    "         return \"flightTo\"\n",
    "    else:\n",
    "        return attribute\n",
    "\n",
    "def get_columns_for_table(df):\n",
    "    try:\n",
    "        attributes = df.columns\n",
    "        result = []\n",
    "        for attribute in attributes:\n",
    "            dtype = convert_dt_to_postgrtype(df[attribute].dtypes)\n",
    "            attribute = strip_keywords(attribute)\n",
    "            result.append(f'{attribute} {dtype}')\n",
    "            joined_result = ', '.join(result)\n",
    "        return joined_result\n",
    "    except Exception as e:\n",
    "        print(f'Error: {str(e)}')\n",
    "\n",
    "def get_columns_for_insertion(df):\n",
    "    try:\n",
    "        attributes = df.columns\n",
    "        result = []\n",
    "        for attribute in attributes:\n",
    "            attribute = strip_keywords(attribute)\n",
    "            result.append(f'{attribute}')\n",
    "            joined_result = ', '.join(result)\n",
    "        return joined_result\n",
    "    except Exception as e:\n",
    "        print(f'Error: {str(e)}')\n",
    "\n",
    "def convert_row_to_frame(data,columns,col1=None ,col2=None, col3=None):\n",
    "    df = pd.DataFrame(rowCount, columns=columns)\n",
    "\n",
    "    # Format specified columns\n",
    "    if (col1 != None):\n",
    "        df[col1] = df[col1].apply(lambda x: \"${:,.2f}\".format(x))\n",
    "    if (col2 != None):\n",
    "        df[col2] = df[col2].apply(lambda x: \"${:,.2f}\".format(x))\n",
    "    if (col3 != None):\n",
    "        df[col3] = df[col3].apply(lambda x: \"{:,}\".format(x))\n",
    "\n",
    "    return df\n",
    "\n",
    "def line_break(sep_key, key_val):\n",
    "    if sep_key == '':\n",
    "        sep_key = key_val\n",
    "    if sep_key != key_val:\n",
    "        print('')\n",
    "        sep_key = ''\n",
    "    return sep_key\n"
   ]
  },
  {
   "cell_type": "code",
   "execution_count": null,
   "id": "ab1b5ff8-cee0-4b8b-bde1-f28df72e5610",
   "metadata": {},
   "outputs": [],
   "source": []
  },
  {
   "cell_type": "code",
   "execution_count": 16,
   "id": "74f5da74-e707-4e56-b7a5-21013d8bd797",
   "metadata": {},
   "outputs": [],
   "source": [
    "# Create an instance of DatabaseSQLHandler\n",
    "db_handler = DatabaseSQLHandler(dbcon, dbcursor)"
   ]
  },
  {
   "cell_type": "code",
   "execution_count": 17,
   "id": "88fd8283-33bd-4f8e-a25d-5b12024dccdf",
   "metadata": {},
   "outputs": [
    {
     "name": "stdout",
     "output_type": "stream",
     "text": [
      "Table \"flight_bookings\" creation succeeded.\n"
     ]
    }
   ],
   "source": [
    "# Define the columns for the table based on Dataset\n",
    "table_columns = get_columns_for_table(flight_df)\n",
    "\n",
    "# Create the table\n",
    "db_handler.create_table('flight_bookings', table_columns)\n"
   ]
  },
  {
   "cell_type": "code",
   "execution_count": 18,
   "id": "4ec068b6-dadf-4869-90fe-858a4c7d1974",
   "metadata": {},
   "outputs": [
    {
     "name": "stdout",
     "output_type": "stream",
     "text": [
      "Table \"hotel_bookings\" creation succeeded.\n"
     ]
    }
   ],
   "source": [
    "# Define the columns for the table based on Dataset\n",
    "table_columns = get_columns_for_table(hotel_df)\n",
    "\n",
    "# Create the table\n",
    "db_handler.create_table('hotel_bookings', table_columns)\n"
   ]
  },
  {
   "cell_type": "code",
   "execution_count": 19,
   "id": "066d638d-dbc5-4ccc-ae07-dfd273863a97",
   "metadata": {},
   "outputs": [
    {
     "name": "stdout",
     "output_type": "stream",
     "text": [
      "Table \"users\" creation succeeded.\n"
     ]
    }
   ],
   "source": [
    "# Define the columns for the table based on Dataset\n",
    "table_columns = get_columns_for_table(users_df)\n",
    "\n",
    "# Create the table\n",
    "db_handler.create_table('users', table_columns)\n"
   ]
  },
  {
   "cell_type": "markdown",
   "id": "f117d5be-486f-4b30-b9cc-b47e1032d6aa",
   "metadata": {},
   "source": [
    "### Inserting data into the tables"
   ]
  },
  {
   "cell_type": "code",
   "execution_count": 20,
   "id": "3338a359-08bc-461d-8faf-4083e04a3fc1",
   "metadata": {},
   "outputs": [
    {
     "name": "stdout",
     "output_type": "stream",
     "text": [
      "Data insertion succeeded.\n"
     ]
    }
   ],
   "source": [
    "# Inserting flights data\n",
    "flight_table_name = 'flight_bookings'\n",
    "insert_columns = get_columns_for_insertion(flight_df)\n",
    "for i, row in flight_df.iterrows():\n",
    "    data = tuple(row)\n",
    "    db_handler.insert_data(flight_table_name, insert_columns, data)\n",
    "print (f'Data insertion succeeded.')"
   ]
  },
  {
   "cell_type": "code",
   "execution_count": 21,
   "id": "c0191135-9b5d-4741-b6f6-910ee513f694",
   "metadata": {},
   "outputs": [
    {
     "name": "stdout",
     "output_type": "stream",
     "text": [
      "Data insertion succeeded.\n"
     ]
    }
   ],
   "source": [
    "# Inserting hotels data\n",
    "hotel_table_name = 'hotel_bookings'\n",
    "insert_columns = get_columns_for_insertion(hotel_df)\n",
    "for i, row in hotel_df.iterrows():\n",
    "    data = tuple(row)\n",
    "    db_handler.insert_data(hotel_table_name, insert_columns, data)\n",
    "print (f'Data insertion succeeded.')"
   ]
  },
  {
   "cell_type": "code",
   "execution_count": 22,
   "id": "1595d7fb-6693-4d25-977c-03cd2341442e",
   "metadata": {},
   "outputs": [
    {
     "name": "stdout",
     "output_type": "stream",
     "text": [
      "Data insertion succeeded.\n"
     ]
    }
   ],
   "source": [
    "# Inserting users data\n",
    "user_table_name = 'users'\n",
    "insert_columns = get_columns_for_insertion(users_df)\n",
    "for i, row in users_df.iterrows():\n",
    "    data = tuple(row)\n",
    "    db_handler.insert_data(user_table_name, insert_columns, data)\n",
    "print (f'Data insertion succeeded.')"
   ]
  },
  {
   "cell_type": "code",
   "execution_count": null,
   "id": "9b953463-f61e-455c-9b5b-9058d450ae5b",
   "metadata": {},
   "outputs": [],
   "source": []
  },
  {
   "cell_type": "markdown",
   "id": "04b4a57e-5111-44f1-a7a7-2adb697566b5",
   "metadata": {},
   "source": [
    "## Data Transformation and Analysis with SQL"
   ]
  },
  {
   "cell_type": "markdown",
   "id": "b22fd9ed-7e0c-4e02-b899-296c1fb08e11",
   "metadata": {},
   "source": [
    "##### Fetching top 5 rows from flight bookings table"
   ]
  },
  {
   "cell_type": "code",
   "execution_count": 23,
   "id": "ef9ae892-5e3b-444a-9e8f-089766a24fdd",
   "metadata": {},
   "outputs": [
    {
     "name": "stdout",
     "output_type": "stream",
     "text": [
      "1 : (0, 0, 'Recife (PE)', 'Florianopolis (SC)', 'firstClass', 1434.38, 1.76, 676.53, 'FlyingDrops', '09/26/2019')\n",
      "2 : (0, 0, 'Florianopolis (SC)', 'Recife (PE)', 'firstClass', 1292.29, 1.76, 676.53, 'FlyingDrops', '09/30/2019')\n",
      "3 : (1, 0, 'Brasilia (DF)', 'Florianopolis (SC)', 'firstClass', 1487.52, 1.66, 637.56, 'CloudFy', '10/03/2019')\n",
      "4 : (1, 0, 'Florianopolis (SC)', 'Brasilia (DF)', 'firstClass', 1127.36, 1.66, 637.56, 'CloudFy', '10/04/2019')\n",
      "5 : (2, 0, 'Aracaju (SE)', 'Salvador (BH)', 'firstClass', 1684.05, 2.16, 830.86, 'CloudFy', '10/10/2019')\n"
     ]
    }
   ],
   "source": [
    "# Fetching top 5 rows from flights table\n",
    "rowCount = db_handler.run_query(f\"select * from {flight_table_name} LIMIT 5;\")\n",
    "for i, row in enumerate(rowCount):\n",
    "    print(f'{i+1} : {row}')"
   ]
  },
  {
   "cell_type": "markdown",
   "id": "bbb9a2e2-bdb8-4e4b-948f-b529bff90e74",
   "metadata": {},
   "source": [
    "##### Fetching top 5 rows from hotel bookings table"
   ]
  },
  {
   "cell_type": "code",
   "execution_count": 24,
   "id": "b76bcf22-160a-46a0-85d2-333db81abc5b",
   "metadata": {},
   "outputs": [
    {
     "name": "stdout",
     "output_type": "stream",
     "text": [
      "1 : (0, 0, 'Hotel A', 'Florianopolis (SC)', 4, 313.02, 1252.08, '09/26/2019')\n",
      "2 : (2, 0, 'Hotel K', 'Salvador (BH)', 2, 263.41, 526.82, '10/10/2019')\n",
      "3 : (7, 0, 'Hotel K', 'Salvador (BH)', 3, 263.41, 790.23, '11/14/2019')\n",
      "4 : (11, 0, 'Hotel K', 'Salvador (BH)', 4, 263.41, 1053.64, '12/12/2019')\n",
      "5 : (13, 0, 'Hotel A', 'Florianopolis (SC)', 1, 313.02, 313.02, '12/26/2019')\n"
     ]
    }
   ],
   "source": [
    "# Fetching top 5 rows from hotels table\n",
    "\n",
    "rowCount = db_handler.run_query(f\"select * from {hotel_table_name} LIMIT 5;\")\n",
    "for i, row in enumerate(rowCount):\n",
    "    print(f'{i+1} : {row}')"
   ]
  },
  {
   "cell_type": "markdown",
   "id": "7d04a718-acf6-4dae-a972-f7290e64606e",
   "metadata": {},
   "source": [
    "##### Fetching top 5 rows from users table"
   ]
  },
  {
   "cell_type": "code",
   "execution_count": 25,
   "id": "00c4a02c-4290-4515-8db9-89cd65458296",
   "metadata": {},
   "outputs": [
    {
     "name": "stdout",
     "output_type": "stream",
     "text": [
      "1 : (0, '4You', 'Roy Braun', 'male', 21)\n",
      "2 : (1, '4You', 'Joseph Holsten', 'male', 37)\n",
      "3 : (2, '4You', 'Wilma Mcinnis', 'female', 48)\n",
      "4 : (3, '4You', 'Paula Daniel', 'female', 23)\n",
      "5 : (4, '4You', 'Patricia Carson', 'female', 44)\n"
     ]
    }
   ],
   "source": [
    "# Fetching top 5 rows from users table\n",
    "\n",
    "rowCount = db_handler.run_query(f\"select * from {user_table_name} LIMIT 5;\")\n",
    "for i, row in enumerate(rowCount):\n",
    "    print(f'{i+1} : {row}')"
   ]
  },
  {
   "cell_type": "code",
   "execution_count": 26,
   "id": "2b63ecbb-4081-44f8-a56b-dbfa57dea04b",
   "metadata": {},
   "outputs": [
    {
     "name": "stdout",
     "output_type": "stream",
     "text": [
      "1 : ('travelcode', 'integer')\n",
      "2 : ('usercode', 'integer')\n",
      "3 : ('price', 'double precision')\n",
      "4 : ('time', 'double precision')\n",
      "5 : ('distance', 'double precision')\n",
      "6 : ('date', 'character varying')\n",
      "7 : ('agency', 'character varying')\n",
      "8 : ('flightfrom', 'character varying')\n",
      "9 : ('flightto', 'character varying')\n",
      "10 : ('flighttype', 'character varying')\n"
     ]
    }
   ],
   "source": [
    "# Fetching flights table description/structure for analysis\n",
    "\n",
    "rowCount = db_handler.run_query(f\"SELECT column_name, data_type FROM information_schema.columns WHERE table_name = '{flight_table_name}';\")\n",
    "for i, row in enumerate(rowCount):\n",
    "    print(f'{i+1} : {row}')"
   ]
  },
  {
   "cell_type": "markdown",
   "id": "e94533c5-0437-4f7b-90cb-44a3711acdb5",
   "metadata": {},
   "source": [
    "#### Some transformations on \"flight_bookings\" table"
   ]
  },
  {
   "cell_type": "code",
   "execution_count": 27,
   "id": "c00240fa-8b77-4a8c-bd6d-71ca2581c5bb",
   "metadata": {},
   "outputs": [
    {
     "name": "stdout",
     "output_type": "stream",
     "text": [
      "Error: no results to fetch\n",
      "Error: no results to fetch\n",
      "Error: no results to fetch\n",
      "Error: no results to fetch\n"
     ]
    }
   ],
   "source": [
    "# We want to add new table columns 'flightMonth', 'MonthName', 'monthYear' and 'flightYear' for detailed insights \n",
    "# during analysis and visualization in Tableau\n",
    "\n",
    "db_handler.run_query(f\"ALTER table {flight_table_name} ADD flightMonth int;\")\n",
    "\n",
    "db_handler.run_query(f\"ALTER table {flight_table_name} ADD MonthName varchar(10);\")\n",
    "\n",
    "db_handler.run_query(f\"ALTER table {flight_table_name} ADD flightYear int;\")\n",
    "\n",
    "db_handler.run_query(f\"ALTER table {flight_table_name} ADD monthYear varchar(7);\")"
   ]
  },
  {
   "cell_type": "code",
   "execution_count": 28,
   "id": "3377f448-4c16-4325-8011-c0632afa4052",
   "metadata": {},
   "outputs": [
    {
     "name": "stdout",
     "output_type": "stream",
     "text": [
      "1 : ('travelcode', 'integer')\n",
      "2 : ('usercode', 'integer')\n",
      "3 : ('price', 'double precision')\n",
      "4 : ('time', 'double precision')\n",
      "5 : ('distance', 'double precision')\n",
      "6 : ('flightmonth', 'integer')\n",
      "7 : ('flightyear', 'integer')\n",
      "8 : ('monthname', 'character varying')\n",
      "9 : ('agency', 'character varying')\n",
      "10 : ('flightfrom', 'character varying')\n",
      "11 : ('flightto', 'character varying')\n",
      "12 : ('flighttype', 'character varying')\n",
      "13 : ('date', 'character varying')\n",
      "14 : ('monthyear', 'character varying')\n"
     ]
    }
   ],
   "source": [
    "# Fetching table description/structure to confirm new columns were successfully created \n",
    "\n",
    "rowCount = db_handler.run_query(f\"SELECT column_name, data_type FROM information_schema.columns WHERE table_name = '{flight_table_name}';\")\n",
    "for i, row in enumerate(rowCount):\n",
    "    print(f'{i+1} : {row}')"
   ]
  },
  {
   "cell_type": "code",
   "execution_count": 29,
   "id": "c11aca98-dc55-4ac7-8a19-eb2a618f3c9f",
   "metadata": {},
   "outputs": [
    {
     "name": "stdout",
     "output_type": "stream",
     "text": [
      "Error: no results to fetch\n",
      "Error: no results to fetch\n",
      "Error: no results to fetch\n",
      "Error: no results to fetch\n"
     ]
    }
   ],
   "source": [
    "# To add values to the newly created columns\n",
    "\n",
    "updateQuery = db_handler.run_query(f\"UPDATE {flight_table_name} SET flightYear = (EXTRACT(YEAR FROM TO_DATE(date,'MM/DD/YYYY')));\")\n",
    "\n",
    "updateQuery = db_handler.run_query(f\"UPDATE {flight_table_name} SET flightMonth = (EXTRACT(MONTH FROM TO_DATE(date,'MM/DD/YYYY')));\")\n",
    "\n",
    "updateQuery = db_handler.run_query(f\"UPDATE {flight_table_name} SET MonthName = TRIM(TO_CHAR(TO_DATE(date, 'MM/DD/YYYY'), 'Month'));\")\n",
    "\n",
    "updateQuery = db_handler.run_query(f\"UPDATE {flight_table_name} SET MonthYear = CONCAT(flightYear,'-',flightMonth);\")"
   ]
  },
  {
   "cell_type": "code",
   "execution_count": null,
   "id": "e11c05ac-cdfd-408b-a25f-5876759a99f2",
   "metadata": {},
   "outputs": [],
   "source": []
  },
  {
   "cell_type": "code",
   "execution_count": 30,
   "id": "b72560b3-c78a-4383-8cb7-fc2fd421c968",
   "metadata": {},
   "outputs": [
    {
     "name": "stdout",
     "output_type": "stream",
     "text": [
      "1 : (2671, 23, 'Recife (PE)', 'Natal (RN)', 'premium', 474.6, 0.58, 222.67, 'CloudFy', '06/25/2020', 6, 'June', 2020, '2020-6')\n",
      "2 : (8828, 89, 'Recife (PE)', 'Natal (RN)', 'economic', 301.51, 0.58, 222.67, 'CloudFy', '06/11/2020', 6, 'June', 2020, '2020-6')\n",
      "3 : (8949, 90, 'Recife (PE)', 'Natal (RN)', 'economic', 360.22, 0.58, 222.67, 'Rainbow', '01/06/2022', 1, 'January', 2022, '2022-1')\n",
      "4 : (11512, 112, 'Recife (PE)', 'Natal (RN)', 'premium', 488.73, 0.58, 222.67, 'Rainbow', '02/02/2023', 2, 'February', 2023, '2023-2')\n",
      "5 : (17474, 174, 'Recife (PE)', 'Natal (RN)', 'premium', 488.73, 0.58, 222.67, 'Rainbow', '11/10/2022', 11, 'November', 2022, '2022-11')\n"
     ]
    }
   ],
   "source": [
    "# Fetching top 5 rows to confirm updates\n",
    "rowCount = db_handler.run_query(f\"select * from {flight_table_name};\",5)\n",
    "for i, row in enumerate(rowCount):\n",
    "    print(f'{i+1} : {row}')"
   ]
  },
  {
   "cell_type": "markdown",
   "id": "8829b017-27ab-4f15-a18c-2a80ab0234a9",
   "metadata": {},
   "source": [
    "### Some transformations on \"hotel_bookings\" table"
   ]
  },
  {
   "cell_type": "code",
   "execution_count": 31,
   "id": "4b141b77-16a0-42b5-80a8-deb5d81cb633",
   "metadata": {},
   "outputs": [
    {
     "name": "stdout",
     "output_type": "stream",
     "text": [
      "1 : ('travelcode', 'integer')\n",
      "2 : ('usercode', 'integer')\n",
      "3 : ('days', 'integer')\n",
      "4 : ('price', 'double precision')\n",
      "5 : ('total', 'double precision')\n",
      "6 : ('name', 'character varying')\n",
      "7 : ('place', 'character varying')\n",
      "8 : ('date', 'character varying')\n"
     ]
    }
   ],
   "source": [
    "# Fetching hotel table description/structure for analysis\n",
    "\n",
    "rowCount = db_handler.run_query(f\"SELECT column_name, data_type FROM information_schema.columns WHERE table_name = '{hotel_table_name}';\")\n",
    "for i, row in enumerate(rowCount):\n",
    "    print(f'{i+1} : {row}')"
   ]
  },
  {
   "cell_type": "code",
   "execution_count": 32,
   "id": "c758a13d-49af-44e9-bbf0-472b045e40d7",
   "metadata": {},
   "outputs": [
    {
     "name": "stdout",
     "output_type": "stream",
     "text": [
      "Error: no results to fetch\n",
      "Error: no results to fetch\n",
      "Error: no results to fetch\n",
      "Error: no results to fetch\n",
      "None\n"
     ]
    }
   ],
   "source": [
    "# We want to add new columns 'lodgeMonth', 'MonthName', 'monthYear' and 'lodgeYear' for detailed insights...\n",
    "# during analysis and visualization in Tableau\n",
    "\n",
    "alterQuery = db_handler.run_query(f\"ALTER table {hotel_table_name} ADD lodgeMonth int;\")\n",
    "\n",
    "alterQuery = db_handler.run_query(f\"ALTER table {hotel_table_name} ADD MonthName varchar(10);\")\n",
    "\n",
    "alterQuery = db_handler.run_query(f\"ALTER table {hotel_table_name} ADD lodgeYear int;\")\n",
    "\n",
    "alterQuery = db_handler.run_query(f\"ALTER table {hotel_table_name} ADD monthYear varchar(7);\")\n",
    "\n",
    "print(alterQuery)"
   ]
  },
  {
   "cell_type": "code",
   "execution_count": 33,
   "id": "185e70fa-7f58-444b-8afd-cae71fd8edb6",
   "metadata": {},
   "outputs": [
    {
     "name": "stdout",
     "output_type": "stream",
     "text": [
      "1 : ('travelcode', 'integer')\n",
      "2 : ('usercode', 'integer')\n",
      "3 : ('days', 'integer')\n",
      "4 : ('price', 'double precision')\n",
      "5 : ('total', 'double precision')\n",
      "6 : ('lodgemonth', 'integer')\n",
      "7 : ('lodgeyear', 'integer')\n",
      "8 : ('name', 'character varying')\n",
      "9 : ('place', 'character varying')\n",
      "10 : ('date', 'character varying')\n",
      "11 : ('monthyear', 'character varying')\n",
      "12 : ('monthname', 'character varying')\n"
     ]
    }
   ],
   "source": [
    "# Fetching table description/structure to confirm new columns were successfully created \n",
    "\n",
    "rowCount = db_handler.run_query(f\"SELECT column_name, data_type FROM information_schema.columns WHERE table_name = '{hotel_table_name}';\")\n",
    "for i, row in enumerate(rowCount):\n",
    "    print(f'{i+1} : {row}')"
   ]
  },
  {
   "cell_type": "code",
   "execution_count": 34,
   "id": "ed2a9dc8-b6cc-4205-a8da-19f5980c40b6",
   "metadata": {},
   "outputs": [
    {
     "name": "stdout",
     "output_type": "stream",
     "text": [
      "Error: no results to fetch\n",
      "Error: no results to fetch\n",
      "Error: no results to fetch\n",
      "Error: no results to fetch\n"
     ]
    }
   ],
   "source": [
    "db_handler.run_query(f\"UPDATE {hotel_table_name} SET lodgeYear = (EXTRACT(YEAR FROM TO_DATE(date,'MM/DD/YYYY')));\")\n",
    "\n",
    "db_handler.run_query(f\"UPDATE {hotel_table_name} SET lodgeMonth = (EXTRACT(MONTH FROM TO_DATE(date,'MM/DD/YYYY')));\")\n",
    "\n",
    "db_handler.run_query(f\"UPDATE {hotel_table_name} SET MonthName = TRIM(TO_CHAR(TO_DATE(date, 'MM/DD/YYYY'), 'Month'));\")\n",
    "\n",
    "db_handler.run_query(f\"UPDATE {hotel_table_name} SET MonthYear = CONCAT(lodgeYear,'-',lodgeMonth);\")"
   ]
  },
  {
   "cell_type": "code",
   "execution_count": 35,
   "id": "73e0a934-2f4e-460f-835c-e5cee46c5179",
   "metadata": {},
   "outputs": [
    {
     "name": "stdout",
     "output_type": "stream",
     "text": [
      "1 : (0, 0, 'Hotel A', 'Florianopolis (SC)', 4, 313.02, 1252.08, '09/26/2019', 9, 'September', 2019, '2019-9')\n",
      "2 : (2, 0, 'Hotel K', 'Salvador (BH)', 2, 263.41, 526.82, '10/10/2019', 10, 'October', 2019, '2019-10')\n",
      "3 : (7, 0, 'Hotel K', 'Salvador (BH)', 3, 263.41, 790.23, '11/14/2019', 11, 'November', 2019, '2019-11')\n",
      "4 : (11, 0, 'Hotel K', 'Salvador (BH)', 4, 263.41, 1053.64, '12/12/2019', 12, 'December', 2019, '2019-12')\n",
      "5 : (13, 0, 'Hotel A', 'Florianopolis (SC)', 1, 313.02, 313.02, '12/26/2019', 12, 'December', 2019, '2019-12')\n"
     ]
    }
   ],
   "source": [
    "# Fetching top 5 rows to confirm updates\n",
    "\n",
    "rowCount = db_handler.run_query(f\"select * from {hotel_table_name};\",5)\n",
    "for i, row in enumerate(rowCount):\n",
    "    print(f'{i+1} : {row}')"
   ]
  },
  {
   "cell_type": "markdown",
   "id": "d3613aeb-e4e2-4911-9775-3d6ca0eb1c1a",
   "metadata": {},
   "source": [
    "### Some more EDA With PosgreSQL"
   ]
  },
  {
   "cell_type": "markdown",
   "id": "a7af3835-b62c-4925-a526-1aa3d9f0dcf0",
   "metadata": {},
   "source": [
    "####\n",
    "#### Most visited destination between 2019-2023"
   ]
  },
  {
   "cell_type": "code",
   "execution_count": 37,
   "id": "c2bda297-526f-4640-8fd7-62a42514a852",
   "metadata": {},
   "outputs": [
    {
     "name": "stdout",
     "output_type": "stream",
     "text": [
      "1 : ('Florianopolis (SC)', 57317)\n",
      "2 : ('Aracaju (SE)', 37224)\n",
      "3 : ('Campo Grande (MS)', 34748)\n",
      "4 : ('Brasilia (DF)', 30779)\n",
      "5 : ('Recife (PE)', 30480)\n",
      "6 : ('Natal (RN)', 23796)\n",
      "7 : ('Sao Paulo (SP)', 23625)\n",
      "8 : ('Salvador (BH)', 17104)\n",
      "9 : ('Rio de Janeiro (RJ)', 16815)\n"
     ]
    }
   ],
   "source": [
    "# most visited destination \n",
    "rowCount = db_handler.run_query(f\"select flightto, count(flightto) as totalVisits from {flight_table_name} \\\n",
    "GROUP BY flightto ORDER BY totalVisits DESC;\",0) \n",
    "for i, row in enumerate(rowCount):\n",
    "    print(f'{i+1} : {row}')"
   ]
  },
  {
   "cell_type": "markdown",
   "id": "a18c71bf-b84c-4889-bb7d-3be4c3965865",
   "metadata": {},
   "source": [
    "####\n",
    "#### Most visited destination each year"
   ]
  },
  {
   "cell_type": "code",
   "execution_count": 38,
   "id": "2322183f-a061-46b3-9b8d-ddc4ba26fd0d",
   "metadata": {},
   "outputs": [
    {
     "name": "stdout",
     "output_type": "stream",
     "text": [
      "1 : (2019, 'Florianopolis (SC)', 7490)\n",
      "2 : (2019, 'Aracaju (SE)', 4864)\n",
      "3 : (2019, 'Campo Grande (MS)', 4529)\n",
      "4 : (2019, 'Brasilia (DF)', 4093)\n",
      "5 : (2019, 'Recife (PE)', 4000)\n",
      "6 : (2019, 'Natal (RN)', 3204)\n",
      "7 : (2019, 'Sao Paulo (SP)', 3192)\n",
      "8 : (2019, 'Rio de Janeiro (RJ)', 2276)\n",
      "9 : (2019, 'Salvador (BH)', 2178)\n",
      "\n",
      "10 : (2020, 'Florianopolis (SC)', 23501)\n",
      "11 : (2020, 'Aracaju (SE)', 15505)\n",
      "12 : (2020, 'Campo Grande (MS)', 14298)\n",
      "13 : (2020, 'Brasilia (DF)', 12618)\n",
      "14 : (2020, 'Recife (PE)', 12545)\n",
      "15 : (2020, 'Natal (RN)', 10017)\n",
      "16 : (2020, 'Sao Paulo (SP)', 9813)\n",
      "17 : (2020, 'Salvador (BH)', 7268)\n",
      "18 : (2020, 'Rio de Janeiro (RJ)', 7006)\n",
      "\n",
      "19 : (2021, 'Florianopolis (SC)', 15782)\n",
      "20 : (2021, 'Aracaju (SE)', 10320)\n",
      "21 : (2021, 'Campo Grande (MS)', 9727)\n",
      "22 : (2021, 'Brasilia (DF)', 8594)\n",
      "23 : (2021, 'Recife (PE)', 8472)\n",
      "24 : (2021, 'Sao Paulo (SP)', 6621)\n",
      "25 : (2021, 'Natal (RN)', 6535)\n",
      "26 : (2021, 'Salvador (BH)', 4679)\n",
      "27 : (2021, 'Rio de Janeiro (RJ)', 4633)\n",
      "\n",
      "28 : (2022, 'Florianopolis (SC)', 9184)\n",
      "29 : (2022, 'Aracaju (SE)', 5631)\n",
      "30 : (2022, 'Campo Grande (MS)', 5373)\n",
      "31 : (2022, 'Recife (PE)', 4708)\n",
      "32 : (2022, 'Brasilia (DF)', 4700)\n",
      "33 : (2022, 'Natal (RN)', 3543)\n",
      "34 : (2022, 'Sao Paulo (SP)', 3491)\n",
      "35 : (2022, 'Salvador (BH)', 2610)\n",
      "36 : (2022, 'Rio de Janeiro (RJ)', 2521)\n",
      "\n",
      "37 : (2023, 'Florianopolis (SC)', 1360)\n",
      "38 : (2023, 'Aracaju (SE)', 904)\n",
      "39 : (2023, 'Campo Grande (MS)', 821)\n",
      "40 : (2023, 'Brasilia (DF)', 774)\n",
      "41 : (2023, 'Recife (PE)', 755)\n",
      "42 : (2023, 'Sao Paulo (SP)', 508)\n",
      "43 : (2023, 'Natal (RN)', 497)\n",
      "44 : (2023, 'Rio de Janeiro (RJ)', 379)\n",
      "45 : (2023, 'Salvador (BH)', 369)\n"
     ]
    }
   ],
   "source": [
    "# most visited destination each year\n",
    "yr = ''        \n",
    "rowCount = db_handler.run_query(f\"select flightyear, flightto, count(flightto) as totalVisits from {flight_table_name} \\\n",
    "GROUP BY flightto, flightyear ORDER BY flightyear, totalVisits DESC;\",0) \n",
    "for i, row in enumerate(rowCount):\n",
    "    yr = (line_break(yr,row[0]))\n",
    "    print(f'{i+1} : {row}')"
   ]
  },
  {
   "cell_type": "markdown",
   "id": "11608630-104f-4e94-b2d4-a160cea7abad",
   "metadata": {},
   "source": [
    "####\n",
    "#### Year with highest travel and hotel expenses"
   ]
  },
  {
   "cell_type": "code",
   "execution_count": 39,
   "id": "6fe43fee-8ee4-4a3f-ae58-adbc3213dc3e",
   "metadata": {},
   "outputs": [
    {
     "name": "stdout",
     "output_type": "stream",
     "text": [
      "1 : (2023, '$5,762,476,252.80', '$1,280,599,803.61')\n",
      "2 : (2022, '$247,792,862,993.80', '$55,565,250,576.39')\n",
      "3 : (2021, '$807,508,895,462.95', '$180,635,425,394.94')\n",
      "4 : (2020, '$1,823,253,030,514.52', '$408,343,021,058.95')\n",
      "5 : (2019, '$181,745,920,754.20', '$40,840,581,346.21')\n",
      "\n",
      "\n"
     ]
    },
    {
     "data": {
      "text/html": [
       "<div>\n",
       "<style scoped>\n",
       "    .dataframe tbody tr th:only-of-type {\n",
       "        vertical-align: middle;\n",
       "    }\n",
       "\n",
       "    .dataframe tbody tr th {\n",
       "        vertical-align: top;\n",
       "    }\n",
       "\n",
       "    .dataframe thead th {\n",
       "        text-align: right;\n",
       "    }\n",
       "</style>\n",
       "<table border=\"1\" class=\"dataframe\">\n",
       "  <thead>\n",
       "    <tr style=\"text-align: right;\">\n",
       "      <th></th>\n",
       "      <th>Flight Year</th>\n",
       "      <th>Travel Spendings</th>\n",
       "      <th>Hotel Spendings</th>\n",
       "    </tr>\n",
       "  </thead>\n",
       "  <tbody>\n",
       "    <tr>\n",
       "      <th>0</th>\n",
       "      <td>2023</td>\n",
       "      <td>$5,762,476,252.80</td>\n",
       "      <td>$1,280,599,803.61</td>\n",
       "    </tr>\n",
       "    <tr>\n",
       "      <th>1</th>\n",
       "      <td>2022</td>\n",
       "      <td>$247,792,862,993.80</td>\n",
       "      <td>$55,565,250,576.39</td>\n",
       "    </tr>\n",
       "    <tr>\n",
       "      <th>2</th>\n",
       "      <td>2021</td>\n",
       "      <td>$807,508,895,462.95</td>\n",
       "      <td>$180,635,425,394.94</td>\n",
       "    </tr>\n",
       "    <tr>\n",
       "      <th>3</th>\n",
       "      <td>2020</td>\n",
       "      <td>$1,823,253,030,514.52</td>\n",
       "      <td>$408,343,021,058.95</td>\n",
       "    </tr>\n",
       "    <tr>\n",
       "      <th>4</th>\n",
       "      <td>2019</td>\n",
       "      <td>$181,745,920,754.20</td>\n",
       "      <td>$40,840,581,346.21</td>\n",
       "    </tr>\n",
       "  </tbody>\n",
       "</table>\n",
       "</div>"
      ],
      "text/plain": [
       "   Flight Year       Travel Spendings      Hotel Spendings\n",
       "0         2023      $5,762,476,252.80    $1,280,599,803.61\n",
       "1         2022    $247,792,862,993.80   $55,565,250,576.39\n",
       "2         2021    $807,508,895,462.95  $180,635,425,394.94\n",
       "3         2020  $1,823,253,030,514.52  $408,343,021,058.95\n",
       "4         2019    $181,745,920,754.20   $40,840,581,346.21"
      ]
     },
     "execution_count": 39,
     "metadata": {},
     "output_type": "execute_result"
    }
   ],
   "source": [
    "# The join was too expensive to run, so I skipped it but the code runs well\n",
    "yr = ''\n",
    "rowCount = db_handler.run_query(f\"select f.flightyear, sum(f.price) as totalFlight, sum(h.price) as totalHotel from {flight_table_name} f \\\n",
    "JOIN {hotel_table_name} h ON f.flightyear = h.lodgeyear GROUP BY f.flightyear ORDER BY f.flightyear DESC;\",0) \n",
    "for i, row in enumerate(rowCount):\n",
    "    print(f'{i+1} : {row[0], \"${:,.2f}\".format(row[1]), \"${:,.2f}\".format(row[2])}')\n",
    "\n",
    "print('\\n')\n",
    "\n",
    "# Display in a dataframe for nice viewing\n",
    "totalSpendings = convert_row_to_frame(rowCount,['Flight Year', 'Travel Spendings', 'Hotel Spendings'],'Travel Spendings' ,'Hotel Spendings',None)\n",
    "totalSpendings.head()"
   ]
  },
  {
   "cell_type": "code",
   "execution_count": 40,
   "id": "498d6217-5cc0-4a30-bb64-8417b3bacc72",
   "metadata": {},
   "outputs": [
    {
     "name": "stdout",
     "output_type": "stream",
     "text": [
      "\n",
      "\n"
     ]
    },
    {
     "data": {
      "text/html": [
       "<div>\n",
       "<style scoped>\n",
       "    .dataframe tbody tr th:only-of-type {\n",
       "        vertical-align: middle;\n",
       "    }\n",
       "\n",
       "    .dataframe tbody tr th {\n",
       "        vertical-align: top;\n",
       "    }\n",
       "\n",
       "    .dataframe thead th {\n",
       "        text-align: right;\n",
       "    }\n",
       "</style>\n",
       "<table border=\"1\" class=\"dataframe\">\n",
       "  <thead>\n",
       "    <tr style=\"text-align: right;\">\n",
       "      <th></th>\n",
       "      <th>Flight Year</th>\n",
       "      <th>Travel Spendings</th>\n",
       "      <th>Hotel Spendings</th>\n",
       "    </tr>\n",
       "  </thead>\n",
       "  <tbody>\n",
       "    <tr>\n",
       "      <th>0</th>\n",
       "      <td>2023</td>\n",
       "      <td>$5,762,476,252.80</td>\n",
       "      <td>$1,280,599,803.61</td>\n",
       "    </tr>\n",
       "    <tr>\n",
       "      <th>1</th>\n",
       "      <td>2022</td>\n",
       "      <td>$247,792,862,993.80</td>\n",
       "      <td>$55,565,250,576.39</td>\n",
       "    </tr>\n",
       "    <tr>\n",
       "      <th>2</th>\n",
       "      <td>2021</td>\n",
       "      <td>$807,508,895,462.95</td>\n",
       "      <td>$180,635,425,394.94</td>\n",
       "    </tr>\n",
       "    <tr>\n",
       "      <th>3</th>\n",
       "      <td>2020</td>\n",
       "      <td>$1,823,253,030,514.52</td>\n",
       "      <td>$408,343,021,058.95</td>\n",
       "    </tr>\n",
       "    <tr>\n",
       "      <th>4</th>\n",
       "      <td>2019</td>\n",
       "      <td>$181,745,920,754.20</td>\n",
       "      <td>$40,840,581,346.21</td>\n",
       "    </tr>\n",
       "  </tbody>\n",
       "</table>\n",
       "</div>"
      ],
      "text/plain": [
       "   Flight Year       Travel Spendings      Hotel Spendings\n",
       "0         2023      $5,762,476,252.80    $1,280,599,803.61\n",
       "1         2022    $247,792,862,993.80   $55,565,250,576.39\n",
       "2         2021    $807,508,895,462.95  $180,635,425,394.94\n",
       "3         2020  $1,823,253,030,514.52  $408,343,021,058.95\n",
       "4         2019    $181,745,920,754.20   $40,840,581,346.21"
      ]
     },
     "execution_count": 40,
     "metadata": {},
     "output_type": "execute_result"
    }
   ],
   "source": [
    "print('\\n')\n",
    "\n",
    "# Display in a dataframe for nice viewing\n",
    "totalSpendings = convert_row_to_frame(rowCount,['Flight Year', 'Travel Spendings', 'Hotel Spendings'],'Travel Spendings' ,'Hotel Spendings',None)\n",
    "(totalSpendings.head())"
   ]
  },
  {
   "cell_type": "markdown",
   "id": "1e3f34d7-bd1e-4ffd-bd21-e9ba262f7a59",
   "metadata": {},
   "source": [
    "####\n",
    "#### Year with highest travel expenses"
   ]
  },
  {
   "cell_type": "code",
   "execution_count": 41,
   "id": "f63f4be5-1c3c-402b-8550-776e44dde196",
   "metadata": {},
   "outputs": [
    {
     "name": "stdout",
     "output_type": "stream",
     "text": [
      "1 : (2020, '$107,699,984.05')\n",
      "2 : (2021, '$72,137,653.69')\n",
      "3 : (2022, '$40,219,584.97')\n",
      "4 : (2019, '$34,124,281.03')\n",
      "5 : (2023, '$6,117,278.40')\n"
     ]
    }
   ],
   "source": [
    "rowCount = db_handler.run_query(f\"select flightyear, sum(price) as totalPrice from {flight_table_name} \\\n",
    "GROUP BY flightyear ORDER BY totalPrice DESC;\",0) \n",
    "for i, row in enumerate(rowCount):\n",
    "    print(f'{i+1} : {row[0], \"${:,.2f}\".format(row[1])}')"
   ]
  },
  {
   "cell_type": "markdown",
   "id": "3f16641d-df71-4656-8b4a-74cf5d3cbdce",
   "metadata": {},
   "source": [
    "####\n",
    "#### Total monthly travel from high to low between 2019 and 2023"
   ]
  },
  {
   "cell_type": "code",
   "execution_count": 44,
   "id": "1069393b-510d-428f-b242-75023c65c451",
   "metadata": {},
   "outputs": [
    {
     "name": "stdout",
     "output_type": "stream",
     "text": [
      "1 : (2019, 'October', 11762)\n",
      "2 : (2019, 'November', 10782)\n",
      "3 : (2019, 'December', 10612)\n",
      "4 : (2019, 'September', 2670)\n",
      "\n",
      "5 : (2020, 'January', 11326)\n",
      "6 : (2020, 'April', 10321)\n",
      "7 : (2020, 'March', 10028)\n",
      "8 : (2020, 'February', 9902)\n",
      "9 : (2020, 'July', 9847)\n",
      "10 : (2020, 'May', 9793)\n",
      "11 : (2020, 'October', 9131)\n",
      "12 : (2020, 'August', 9071)\n",
      "13 : (2020, 'June', 9050)\n",
      "14 : (2020, 'December', 8201)\n",
      "15 : (2020, 'September', 7954)\n",
      "16 : (2020, 'November', 7947)\n",
      "\n",
      "17 : (2021, 'January', 7756)\n",
      "18 : (2021, 'April', 7313)\n",
      "19 : (2021, 'February', 6869)\n",
      "20 : (2021, 'March', 6824)\n",
      "21 : (2021, 'May', 6749)\n",
      "22 : (2021, 'July', 6703)\n",
      "23 : (2021, 'June', 5874)\n",
      "24 : (2021, 'September', 5771)\n",
      "25 : (2021, 'August', 5741)\n",
      "26 : (2021, 'October', 5476)\n",
      "27 : (2021, 'December', 5344)\n",
      "28 : (2021, 'November', 4943)\n",
      "\n",
      "29 : (2022, 'January', 4804)\n",
      "30 : (2022, 'March', 4593)\n",
      "31 : (2022, 'February', 4238)\n",
      "32 : (2022, 'April', 4083)\n",
      "33 : (2022, 'May', 3834)\n",
      "34 : (2022, 'June', 3756)\n",
      "35 : (2022, 'July', 3434)\n",
      "36 : (2022, 'September', 3073)\n",
      "37 : (2022, 'August', 3054)\n",
      "38 : (2022, 'October', 2611)\n",
      "39 : (2022, 'December', 2189)\n",
      "40 : (2022, 'November', 2092)\n",
      "\n",
      "41 : (2023, 'January', 1701)\n",
      "42 : (2023, 'February', 1378)\n",
      "43 : (2023, 'March', 1296)\n",
      "44 : (2023, 'April', 890)\n",
      "45 : (2023, 'May', 592)\n",
      "46 : (2023, 'June', 381)\n",
      "47 : (2023, 'July', 129)\n"
     ]
    }
   ],
   "source": [
    "# Peak travel month in each year\n",
    "yr = ''\n",
    "rowCount = db_handler.run_query(f\"SELECT flightyear, monthname, MAX(totalFlights) \\\n",
    "FROM ( \\\n",
    "    SELECT flightyear, monthname, COUNT(flightto) as totalFlights \\\n",
    "    FROM {flight_table_name} \\\n",
    "    GROUP BY flightyear, monthname \\\n",
    ")  \\\n",
    "GROUP BY flightyear, monthname \\\n",
    "ORDER BY flightyear, MAX(totalFlights) DESC;\",0) \n",
    "for i, row in enumerate(rowCount):\n",
    "    yr = (line_break(yr,row[0]))\n",
    "    print(f'{i+1} : {row}')"
   ]
  },
  {
   "cell_type": "markdown",
   "id": "4d9a9993-a60e-49c3-bbb3-5adf56898576",
   "metadata": {},
   "source": [
    "####\n",
    "#### Peak travel month in each year"
   ]
  },
  {
   "cell_type": "code",
   "execution_count": 45,
   "id": "32aca682-658c-4c5a-85a4-bee00e774147",
   "metadata": {},
   "outputs": [
    {
     "name": "stdout",
     "output_type": "stream",
     "text": [
      "1 : (2019, 'October', 11762)\n",
      "2 : (2020, 'January', 11326)\n",
      "3 : (2021, 'January', 7756)\n",
      "4 : (2022, 'January', 4804)\n",
      "5 : (2023, 'January', 1701)\n"
     ]
    }
   ],
   "source": [
    "# Peak travel month in each year\n",
    "rowCount = db_handler.run_query(f\"SELECT flightyear, monthname, totalFlights \\\n",
    "FROM ( \\\n",
    "    SELECT flightyear, monthname, COUNT(flightto) AS totalFlights, \\\n",
    "        RANK() OVER (PARTITION BY flightyear ORDER BY COUNT(flightto) DESC) AS ranking \\\n",
    "    FROM {flight_table_name} GROUP BY flightyear, monthname \\\n",
    ") AS RankedFlights \\\n",
    "WHERE ranking = 1 \\\n",
    "ORDER BY flightyear;\",0) \n",
    "\n",
    "for i, row in enumerate(rowCount):\n",
    "    print(f'{i+1} : {row}')"
   ]
  },
  {
   "cell_type": "markdown",
   "id": "8a26980b-0730-4492-beac-6ae61122ada8",
   "metadata": {},
   "source": [
    "####\n",
    "#### Total Flights and cost handled by agencies in each year"
   ]
  },
  {
   "cell_type": "code",
   "execution_count": 46,
   "id": "f50b6383-07d6-4ceb-a7df-83bf0bfda6fb",
   "metadata": {},
   "outputs": [
    {
     "name": "stdout",
     "output_type": "stream",
     "text": [
      "1 : ('Rainbow', 2019, '$14,159,650.37', '15,446')\n",
      "2 : ('CloudFy', 2019, '$13,934,756.48', '15,280')\n",
      "3 : ('FlyingDrops', 2019, '$6,029,874.18', '5,100')\n",
      "4 : ('CloudFy', 2020, '$44,495,417.02', '48,404')\n",
      "5 : ('Rainbow', 2020, '$44,278,986.11', '48,206')\n",
      "6 : ('FlyingDrops', 2020, '$18,925,580.92', '15,961')\n",
      "7 : ('Rainbow', 2021, '$30,005,116.22', '32,599')\n",
      "8 : ('CloudFy', 2021, '$29,542,565.53', '32,127')\n",
      "9 : ('FlyingDrops', 2021, '$12,589,971.94', '10,637')\n",
      "10 : ('Rainbow', 2022, '$16,470,063.88', '17,791')\n",
      "11 : ('CloudFy', 2022, '$16,433,617.82', '17,832')\n",
      "12 : ('FlyingDrops', 2022, '$7,315,903.27', '6,138')\n",
      "13 : ('CloudFy', 2023, '$2,532,978.04', '2,735')\n",
      "14 : ('Rainbow', 2023, '$2,472,426.74', '2,710')\n",
      "15 : ('FlyingDrops', 2023, '$1,111,873.62', '922')\n",
      "\n",
      "\n"
     ]
    },
    {
     "data": {
      "text/html": [
       "<div>\n",
       "<style scoped>\n",
       "    .dataframe tbody tr th:only-of-type {\n",
       "        vertical-align: middle;\n",
       "    }\n",
       "\n",
       "    .dataframe tbody tr th {\n",
       "        vertical-align: top;\n",
       "    }\n",
       "\n",
       "    .dataframe thead th {\n",
       "        text-align: right;\n",
       "    }\n",
       "</style>\n",
       "<table border=\"1\" class=\"dataframe\">\n",
       "  <thead>\n",
       "    <tr style=\"text-align: right;\">\n",
       "      <th></th>\n",
       "      <th>Agency</th>\n",
       "      <th>flightyear</th>\n",
       "      <th>totalPrice</th>\n",
       "      <th>totalFlights</th>\n",
       "    </tr>\n",
       "  </thead>\n",
       "  <tbody>\n",
       "    <tr>\n",
       "      <th>0</th>\n",
       "      <td>Rainbow</td>\n",
       "      <td>2019</td>\n",
       "      <td>$14,159,650.37</td>\n",
       "      <td>15,446</td>\n",
       "    </tr>\n",
       "    <tr>\n",
       "      <th>1</th>\n",
       "      <td>CloudFy</td>\n",
       "      <td>2019</td>\n",
       "      <td>$13,934,756.48</td>\n",
       "      <td>15,280</td>\n",
       "    </tr>\n",
       "    <tr>\n",
       "      <th>2</th>\n",
       "      <td>FlyingDrops</td>\n",
       "      <td>2019</td>\n",
       "      <td>$6,029,874.18</td>\n",
       "      <td>5,100</td>\n",
       "    </tr>\n",
       "    <tr>\n",
       "      <th>3</th>\n",
       "      <td>CloudFy</td>\n",
       "      <td>2020</td>\n",
       "      <td>$44,495,417.02</td>\n",
       "      <td>48,404</td>\n",
       "    </tr>\n",
       "    <tr>\n",
       "      <th>4</th>\n",
       "      <td>Rainbow</td>\n",
       "      <td>2020</td>\n",
       "      <td>$44,278,986.11</td>\n",
       "      <td>48,206</td>\n",
       "    </tr>\n",
       "    <tr>\n",
       "      <th>5</th>\n",
       "      <td>FlyingDrops</td>\n",
       "      <td>2020</td>\n",
       "      <td>$18,925,580.92</td>\n",
       "      <td>15,961</td>\n",
       "    </tr>\n",
       "    <tr>\n",
       "      <th>6</th>\n",
       "      <td>Rainbow</td>\n",
       "      <td>2021</td>\n",
       "      <td>$30,005,116.22</td>\n",
       "      <td>32,599</td>\n",
       "    </tr>\n",
       "    <tr>\n",
       "      <th>7</th>\n",
       "      <td>CloudFy</td>\n",
       "      <td>2021</td>\n",
       "      <td>$29,542,565.53</td>\n",
       "      <td>32,127</td>\n",
       "    </tr>\n",
       "    <tr>\n",
       "      <th>8</th>\n",
       "      <td>FlyingDrops</td>\n",
       "      <td>2021</td>\n",
       "      <td>$12,589,971.94</td>\n",
       "      <td>10,637</td>\n",
       "    </tr>\n",
       "    <tr>\n",
       "      <th>9</th>\n",
       "      <td>Rainbow</td>\n",
       "      <td>2022</td>\n",
       "      <td>$16,470,063.88</td>\n",
       "      <td>17,791</td>\n",
       "    </tr>\n",
       "    <tr>\n",
       "      <th>10</th>\n",
       "      <td>CloudFy</td>\n",
       "      <td>2022</td>\n",
       "      <td>$16,433,617.82</td>\n",
       "      <td>17,832</td>\n",
       "    </tr>\n",
       "    <tr>\n",
       "      <th>11</th>\n",
       "      <td>FlyingDrops</td>\n",
       "      <td>2022</td>\n",
       "      <td>$7,315,903.27</td>\n",
       "      <td>6,138</td>\n",
       "    </tr>\n",
       "    <tr>\n",
       "      <th>12</th>\n",
       "      <td>CloudFy</td>\n",
       "      <td>2023</td>\n",
       "      <td>$2,532,978.04</td>\n",
       "      <td>2,735</td>\n",
       "    </tr>\n",
       "    <tr>\n",
       "      <th>13</th>\n",
       "      <td>Rainbow</td>\n",
       "      <td>2023</td>\n",
       "      <td>$2,472,426.74</td>\n",
       "      <td>2,710</td>\n",
       "    </tr>\n",
       "    <tr>\n",
       "      <th>14</th>\n",
       "      <td>FlyingDrops</td>\n",
       "      <td>2023</td>\n",
       "      <td>$1,111,873.62</td>\n",
       "      <td>922</td>\n",
       "    </tr>\n",
       "  </tbody>\n",
       "</table>\n",
       "</div>"
      ],
      "text/plain": [
       "         Agency  flightyear      totalPrice totalFlights\n",
       "0       Rainbow        2019  $14,159,650.37       15,446\n",
       "1       CloudFy        2019  $13,934,756.48       15,280\n",
       "2   FlyingDrops        2019   $6,029,874.18        5,100\n",
       "3       CloudFy        2020  $44,495,417.02       48,404\n",
       "4       Rainbow        2020  $44,278,986.11       48,206\n",
       "5   FlyingDrops        2020  $18,925,580.92       15,961\n",
       "6       Rainbow        2021  $30,005,116.22       32,599\n",
       "7       CloudFy        2021  $29,542,565.53       32,127\n",
       "8   FlyingDrops        2021  $12,589,971.94       10,637\n",
       "9       Rainbow        2022  $16,470,063.88       17,791\n",
       "10      CloudFy        2022  $16,433,617.82       17,832\n",
       "11  FlyingDrops        2022   $7,315,903.27        6,138\n",
       "12      CloudFy        2023   $2,532,978.04        2,735\n",
       "13      Rainbow        2023   $2,472,426.74        2,710\n",
       "14  FlyingDrops        2023   $1,111,873.62          922"
      ]
     },
     "execution_count": 46,
     "metadata": {},
     "output_type": "execute_result"
    }
   ],
   "source": [
    "yr = ''\n",
    "rowCount = db_handler.run_query(f\"select agency, flightyear, sum(price) as totalPrice, count(flightto) as totalFlights from {flight_table_name} \\\n",
    "GROUP BY agency, flightyear ORDER BY flightyear, totalPrice DESC;\",0) \n",
    "for i, row in enumerate(rowCount):\n",
    "    print(f'{i+1} : {row[0], row[1], \"${:,.2f}\".format(row[2]), \"{:,}\".format(row[3])}')\n",
    "    \n",
    "print('\\n')\n",
    "\n",
    "# Display in a dataframe for nice viewing\n",
    "totalFlights = convert_row_to_frame(rowCount,['Agency', 'flightyear', 'totalPrice', 'totalFlights'],'totalPrice' ,None,'totalFlights')\n",
    "(totalFlights.head(16))"
   ]
  },
  {
   "cell_type": "markdown",
   "id": "47ad6441-e573-4e49-a4cc-0f803c43e12c",
   "metadata": {},
   "source": [
    "####\n",
    "#### Unified table showing users bookings with return tickets"
   ]
  },
  {
   "cell_type": "code",
   "execution_count": 47,
   "id": "a8d29ee6-8e78-49da-842d-a8ed525f9223",
   "metadata": {},
   "outputs": [
    {
     "name": "stdout",
     "output_type": "stream",
     "text": [
      "1 : (0, 0, 'firstClass', 1434.38, '09/26/2019', 1292.29, '09/30/2019', 'FlyingDrops', 'Recife (PE)')\n",
      "2 : (1, 0, 'firstClass', 1487.52, '10/03/2019', 1127.36, '10/04/2019', 'CloudFy', 'Brasilia (DF)')\n",
      "3 : (2, 0, 'firstClass', 1684.05, '10/10/2019', 1531.92, '10/12/2019', 'CloudFy', 'Aracaju (SE)')\n",
      "4 : (3, 0, 'economic', 743.54, '10/17/2019', 877.56, '10/20/2019', 'Rainbow', 'Aracaju (SE)')\n",
      "5 : (4, 0, 'economic', 803.39, '10/24/2019', 695.3, '10/26/2019', 'Rainbow', 'Recife (PE)')\n",
      "6 : (5, 0, 'firstClass', 1287.52, '10/31/2019', 898.04, '11/01/2019', 'FlyingDrops', 'Brasilia (DF)')\n",
      "7 : (6, 0, 'premium', 1070.54, '11/07/2019', 1013.4, '11/10/2019', 'Rainbow', 'Recife (PE)')\n",
      "8 : (7, 0, 'economic', 964.83, '11/14/2019', 811.73, '11/17/2019', 'CloudFy', 'Aracaju (SE)')\n",
      "9 : (8, 0, 'economic', 513.06, '11/21/2019', 829.91, '11/24/2019', 'CloudFy', 'Recife (PE)')\n",
      "10 : (9, 0, 'economic', 583.6, '11/28/2019', 506.56, '11/30/2019', 'CloudFy', 'Brasilia (DF)')\n",
      "\n",
      "\n"
     ]
    },
    {
     "data": {
      "text/html": [
       "<div>\n",
       "<style scoped>\n",
       "    .dataframe tbody tr th:only-of-type {\n",
       "        vertical-align: middle;\n",
       "    }\n",
       "\n",
       "    .dataframe tbody tr th {\n",
       "        vertical-align: top;\n",
       "    }\n",
       "\n",
       "    .dataframe thead th {\n",
       "        text-align: right;\n",
       "    }\n",
       "</style>\n",
       "<table border=\"1\" class=\"dataframe\">\n",
       "  <thead>\n",
       "    <tr style=\"text-align: right;\">\n",
       "      <th></th>\n",
       "      <th>travelCode</th>\n",
       "      <th>userCode</th>\n",
       "      <th>flightType</th>\n",
       "      <th>flightPrice</th>\n",
       "      <th>flightDate</th>\n",
       "      <th>returnPrice</th>\n",
       "      <th>returnDate</th>\n",
       "      <th>Agency</th>\n",
       "      <th>flightFrom</th>\n",
       "    </tr>\n",
       "  </thead>\n",
       "  <tbody>\n",
       "    <tr>\n",
       "      <th>0</th>\n",
       "      <td>0</td>\n",
       "      <td>0</td>\n",
       "      <td>firstClass</td>\n",
       "      <td>$1,434.38</td>\n",
       "      <td>09/26/2019</td>\n",
       "      <td>$1,292.29</td>\n",
       "      <td>09/30/2019</td>\n",
       "      <td>FlyingDrops</td>\n",
       "      <td>Recife (PE)</td>\n",
       "    </tr>\n",
       "    <tr>\n",
       "      <th>1</th>\n",
       "      <td>1</td>\n",
       "      <td>0</td>\n",
       "      <td>firstClass</td>\n",
       "      <td>$1,487.52</td>\n",
       "      <td>10/03/2019</td>\n",
       "      <td>$1,127.36</td>\n",
       "      <td>10/04/2019</td>\n",
       "      <td>CloudFy</td>\n",
       "      <td>Brasilia (DF)</td>\n",
       "    </tr>\n",
       "    <tr>\n",
       "      <th>2</th>\n",
       "      <td>2</td>\n",
       "      <td>0</td>\n",
       "      <td>firstClass</td>\n",
       "      <td>$1,684.05</td>\n",
       "      <td>10/10/2019</td>\n",
       "      <td>$1,531.92</td>\n",
       "      <td>10/12/2019</td>\n",
       "      <td>CloudFy</td>\n",
       "      <td>Aracaju (SE)</td>\n",
       "    </tr>\n",
       "    <tr>\n",
       "      <th>3</th>\n",
       "      <td>3</td>\n",
       "      <td>0</td>\n",
       "      <td>economic</td>\n",
       "      <td>$743.54</td>\n",
       "      <td>10/17/2019</td>\n",
       "      <td>$877.56</td>\n",
       "      <td>10/20/2019</td>\n",
       "      <td>Rainbow</td>\n",
       "      <td>Aracaju (SE)</td>\n",
       "    </tr>\n",
       "    <tr>\n",
       "      <th>4</th>\n",
       "      <td>4</td>\n",
       "      <td>0</td>\n",
       "      <td>economic</td>\n",
       "      <td>$803.39</td>\n",
       "      <td>10/24/2019</td>\n",
       "      <td>$695.30</td>\n",
       "      <td>10/26/2019</td>\n",
       "      <td>Rainbow</td>\n",
       "      <td>Recife (PE)</td>\n",
       "    </tr>\n",
       "    <tr>\n",
       "      <th>5</th>\n",
       "      <td>5</td>\n",
       "      <td>0</td>\n",
       "      <td>firstClass</td>\n",
       "      <td>$1,287.52</td>\n",
       "      <td>10/31/2019</td>\n",
       "      <td>$898.04</td>\n",
       "      <td>11/01/2019</td>\n",
       "      <td>FlyingDrops</td>\n",
       "      <td>Brasilia (DF)</td>\n",
       "    </tr>\n",
       "    <tr>\n",
       "      <th>6</th>\n",
       "      <td>6</td>\n",
       "      <td>0</td>\n",
       "      <td>premium</td>\n",
       "      <td>$1,070.54</td>\n",
       "      <td>11/07/2019</td>\n",
       "      <td>$1,013.40</td>\n",
       "      <td>11/10/2019</td>\n",
       "      <td>Rainbow</td>\n",
       "      <td>Recife (PE)</td>\n",
       "    </tr>\n",
       "    <tr>\n",
       "      <th>7</th>\n",
       "      <td>7</td>\n",
       "      <td>0</td>\n",
       "      <td>economic</td>\n",
       "      <td>$964.83</td>\n",
       "      <td>11/14/2019</td>\n",
       "      <td>$811.73</td>\n",
       "      <td>11/17/2019</td>\n",
       "      <td>CloudFy</td>\n",
       "      <td>Aracaju (SE)</td>\n",
       "    </tr>\n",
       "    <tr>\n",
       "      <th>8</th>\n",
       "      <td>8</td>\n",
       "      <td>0</td>\n",
       "      <td>economic</td>\n",
       "      <td>$513.06</td>\n",
       "      <td>11/21/2019</td>\n",
       "      <td>$829.91</td>\n",
       "      <td>11/24/2019</td>\n",
       "      <td>CloudFy</td>\n",
       "      <td>Recife (PE)</td>\n",
       "    </tr>\n",
       "    <tr>\n",
       "      <th>9</th>\n",
       "      <td>9</td>\n",
       "      <td>0</td>\n",
       "      <td>economic</td>\n",
       "      <td>$583.60</td>\n",
       "      <td>11/28/2019</td>\n",
       "      <td>$506.56</td>\n",
       "      <td>11/30/2019</td>\n",
       "      <td>CloudFy</td>\n",
       "      <td>Brasilia (DF)</td>\n",
       "    </tr>\n",
       "    <tr>\n",
       "      <th>10</th>\n",
       "      <td>10</td>\n",
       "      <td>0</td>\n",
       "      <td>firstClass</td>\n",
       "      <td>$992.17</td>\n",
       "      <td>12/05/2019</td>\n",
       "      <td>$824.31</td>\n",
       "      <td>12/06/2019</td>\n",
       "      <td>Rainbow</td>\n",
       "      <td>Brasilia (DF)</td>\n",
       "    </tr>\n",
       "    <tr>\n",
       "      <th>11</th>\n",
       "      <td>11</td>\n",
       "      <td>0</td>\n",
       "      <td>premium</td>\n",
       "      <td>$1,268.97</td>\n",
       "      <td>12/12/2019</td>\n",
       "      <td>$882.86</td>\n",
       "      <td>12/16/2019</td>\n",
       "      <td>Rainbow</td>\n",
       "      <td>Brasilia (DF)</td>\n",
       "    </tr>\n",
       "    <tr>\n",
       "      <th>12</th>\n",
       "      <td>12</td>\n",
       "      <td>0</td>\n",
       "      <td>premium</td>\n",
       "      <td>$965.62</td>\n",
       "      <td>12/19/2019</td>\n",
       "      <td>$706.36</td>\n",
       "      <td>12/20/2019</td>\n",
       "      <td>Rainbow</td>\n",
       "      <td>Brasilia (DF)</td>\n",
       "    </tr>\n",
       "    <tr>\n",
       "      <th>13</th>\n",
       "      <td>13</td>\n",
       "      <td>0</td>\n",
       "      <td>firstClass</td>\n",
       "      <td>$1,434.38</td>\n",
       "      <td>12/26/2019</td>\n",
       "      <td>$1,292.29</td>\n",
       "      <td>12/27/2019</td>\n",
       "      <td>FlyingDrops</td>\n",
       "      <td>Recife (PE)</td>\n",
       "    </tr>\n",
       "    <tr>\n",
       "      <th>14</th>\n",
       "      <td>14</td>\n",
       "      <td>0</td>\n",
       "      <td>firstClass</td>\n",
       "      <td>$893.65</td>\n",
       "      <td>01/02/2020</td>\n",
       "      <td>$742.94</td>\n",
       "      <td>01/04/2020</td>\n",
       "      <td>CloudFy</td>\n",
       "      <td>Brasilia (DF)</td>\n",
       "    </tr>\n",
       "    <tr>\n",
       "      <th>15</th>\n",
       "      <td>15</td>\n",
       "      <td>0</td>\n",
       "      <td>premium</td>\n",
       "      <td>$474.60</td>\n",
       "      <td>01/09/2020</td>\n",
       "      <td>$563.23</td>\n",
       "      <td>01/11/2020</td>\n",
       "      <td>CloudFy</td>\n",
       "      <td>Recife (PE)</td>\n",
       "    </tr>\n",
       "    <tr>\n",
       "      <th>16</th>\n",
       "      <td>16</td>\n",
       "      <td>0</td>\n",
       "      <td>premium</td>\n",
       "      <td>$1,021.53</td>\n",
       "      <td>01/16/2020</td>\n",
       "      <td>$1,215.45</td>\n",
       "      <td>01/18/2020</td>\n",
       "      <td>CloudFy</td>\n",
       "      <td>Aracaju (SE)</td>\n",
       "    </tr>\n",
       "    <tr>\n",
       "      <th>17</th>\n",
       "      <td>17</td>\n",
       "      <td>0</td>\n",
       "      <td>economic</td>\n",
       "      <td>$301.51</td>\n",
       "      <td>01/23/2020</td>\n",
       "      <td>$429.77</td>\n",
       "      <td>01/24/2020</td>\n",
       "      <td>CloudFy</td>\n",
       "      <td>Recife (PE)</td>\n",
       "    </tr>\n",
       "    <tr>\n",
       "      <th>18</th>\n",
       "      <td>18</td>\n",
       "      <td>0</td>\n",
       "      <td>economic</td>\n",
       "      <td>$791.66</td>\n",
       "      <td>01/30/2020</td>\n",
       "      <td>$697.51</td>\n",
       "      <td>01/31/2020</td>\n",
       "      <td>CloudFy</td>\n",
       "      <td>Brasilia (DF)</td>\n",
       "    </tr>\n",
       "    <tr>\n",
       "      <th>19</th>\n",
       "      <td>19</td>\n",
       "      <td>0</td>\n",
       "      <td>firstClass</td>\n",
       "      <td>$1,596.61</td>\n",
       "      <td>02/06/2020</td>\n",
       "      <td>$1,348.04</td>\n",
       "      <td>02/09/2020</td>\n",
       "      <td>FlyingDrops</td>\n",
       "      <td>Recife (PE)</td>\n",
       "    </tr>\n",
       "  </tbody>\n",
       "</table>\n",
       "</div>"
      ],
      "text/plain": [
       "    travelCode  userCode  flightType flightPrice  flightDate returnPrice  \\\n",
       "0            0         0  firstClass   $1,434.38  09/26/2019   $1,292.29   \n",
       "1            1         0  firstClass   $1,487.52  10/03/2019   $1,127.36   \n",
       "2            2         0  firstClass   $1,684.05  10/10/2019   $1,531.92   \n",
       "3            3         0    economic     $743.54  10/17/2019     $877.56   \n",
       "4            4         0    economic     $803.39  10/24/2019     $695.30   \n",
       "5            5         0  firstClass   $1,287.52  10/31/2019     $898.04   \n",
       "6            6         0     premium   $1,070.54  11/07/2019   $1,013.40   \n",
       "7            7         0    economic     $964.83  11/14/2019     $811.73   \n",
       "8            8         0    economic     $513.06  11/21/2019     $829.91   \n",
       "9            9         0    economic     $583.60  11/28/2019     $506.56   \n",
       "10          10         0  firstClass     $992.17  12/05/2019     $824.31   \n",
       "11          11         0     premium   $1,268.97  12/12/2019     $882.86   \n",
       "12          12         0     premium     $965.62  12/19/2019     $706.36   \n",
       "13          13         0  firstClass   $1,434.38  12/26/2019   $1,292.29   \n",
       "14          14         0  firstClass     $893.65  01/02/2020     $742.94   \n",
       "15          15         0     premium     $474.60  01/09/2020     $563.23   \n",
       "16          16         0     premium   $1,021.53  01/16/2020   $1,215.45   \n",
       "17          17         0    economic     $301.51  01/23/2020     $429.77   \n",
       "18          18         0    economic     $791.66  01/30/2020     $697.51   \n",
       "19          19         0  firstClass   $1,596.61  02/06/2020   $1,348.04   \n",
       "\n",
       "    returnDate       Agency     flightFrom  \n",
       "0   09/30/2019  FlyingDrops    Recife (PE)  \n",
       "1   10/04/2019      CloudFy  Brasilia (DF)  \n",
       "2   10/12/2019      CloudFy   Aracaju (SE)  \n",
       "3   10/20/2019      Rainbow   Aracaju (SE)  \n",
       "4   10/26/2019      Rainbow    Recife (PE)  \n",
       "5   11/01/2019  FlyingDrops  Brasilia (DF)  \n",
       "6   11/10/2019      Rainbow    Recife (PE)  \n",
       "7   11/17/2019      CloudFy   Aracaju (SE)  \n",
       "8   11/24/2019      CloudFy    Recife (PE)  \n",
       "9   11/30/2019      CloudFy  Brasilia (DF)  \n",
       "10  12/06/2019      Rainbow  Brasilia (DF)  \n",
       "11  12/16/2019      Rainbow  Brasilia (DF)  \n",
       "12  12/20/2019      Rainbow  Brasilia (DF)  \n",
       "13  12/27/2019  FlyingDrops    Recife (PE)  \n",
       "14  01/04/2020      CloudFy  Brasilia (DF)  \n",
       "15  01/11/2020      CloudFy    Recife (PE)  \n",
       "16  01/18/2020      CloudFy   Aracaju (SE)  \n",
       "17  01/24/2020      CloudFy    Recife (PE)  \n",
       "18  01/31/2020      CloudFy  Brasilia (DF)  \n",
       "19  02/09/2020  FlyingDrops    Recife (PE)  "
      ]
     },
     "execution_count": 47,
     "metadata": {},
     "output_type": "execute_result"
    }
   ],
   "source": [
    "#dbcursor.execute(\"rollback\")\n",
    "rowCount = db_handler.run_query(f\"SELECT travelCode, userCode, \\\n",
    "    MAX(CASE WHEN sequence = 1 THEN flightType END) AS flightType, \\\n",
    "    MAX(CASE WHEN sequence = 1 THEN price END) AS flightPrice, \\\n",
    "    MAX(CASE WHEN sequence = 1 THEN date END) AS flightDate, \\\n",
    "    MAX(CASE WHEN sequence = 2 THEN price END) AS returnPrice, \\\n",
    "    MAX(CASE WHEN sequence = 2 THEN date END) AS returnDate, \\\n",
    "    MAX(CASE WHEN sequence = 1 THEN agency END) AS agency, \\\n",
    "    MAX(CASE WHEN sequence = 1 THEN flightfrom END) AS flightFrom \\\n",
    "FROM ( \\\n",
    "    SELECT travelCode, userCode, agency, flightfrom, flightType, price, date, \\\n",
    "        ROW_NUMBER() OVER (PARTITION BY travelCode, userCode, flightType ORDER BY date) AS sequence \\\n",
    "    FROM {flight_table_name} \\\n",
    ") GROUP BY travelCode, userCode;\",0) \n",
    "for i, row in enumerate(rowCount):\n",
    "    if i < 10:\n",
    "        print(f'{i+1} : {row}')\n",
    "\n",
    "print('\\n')\n",
    "\n",
    "# Display in a dataframe for nice viewing\n",
    "unified_df = convert_row_to_frame(rowCount,['travelCode', 'userCode', 'flightType', 'flightPrice', 'flightDate', \\\n",
    "            'returnPrice', 'returnDate', 'Agency', 'flightFrom'],'flightPrice' ,'returnPrice', None)\n",
    "unified_df.head(20)"
   ]
  },
  {
   "cell_type": "code",
   "execution_count": null,
   "id": "f2434768-666a-4f43-b424-6826155be038",
   "metadata": {},
   "outputs": [],
   "source": []
  },
  {
   "cell_type": "code",
   "execution_count": 48,
   "id": "796c0506-4b4d-420d-8fba-45582036c4b1",
   "metadata": {},
   "outputs": [],
   "source": [
    "# Close connection\n",
    "pgcon.close()\n",
    "dbcon.close()"
   ]
  }
 ],
 "metadata": {
  "kernelspec": {
   "display_name": "Python 3 (ipykernel)",
   "language": "python",
   "name": "python3"
  },
  "language_info": {
   "codemirror_mode": {
    "name": "ipython",
    "version": 3
   },
   "file_extension": ".py",
   "mimetype": "text/x-python",
   "name": "python",
   "nbconvert_exporter": "python",
   "pygments_lexer": "ipython3",
   "version": "3.11.5"
  }
 },
 "nbformat": 4,
 "nbformat_minor": 5
}
